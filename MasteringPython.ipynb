{
 "cells": [
  {
   "cell_type": "markdown",
   "id": "244a2da6",
   "metadata": {},
   "source": [
    "# Python Tutorial \n"
   ]
  },
  {
   "cell_type": "code",
   "execution_count": 2,
   "id": "f5a4b517",
   "metadata": {},
   "outputs": [
    {
     "name": "stdout",
     "output_type": "stream",
     "text": [
      "Hello World\n"
     ]
    }
   ],
   "source": [
    "print(\"Hello World\")"
   ]
  },
  {
   "cell_type": "markdown",
   "id": "7516d900",
   "metadata": {},
   "source": [
    "$a=b+c$"
   ]
  },
  {
   "cell_type": "markdown",
   "id": "d8177ca3",
   "metadata": {},
   "source": [
    "# Variables"
   ]
  },
  {
   "cell_type": "code",
   "execution_count": 1,
   "id": "3b52010f",
   "metadata": {},
   "outputs": [],
   "source": [
    "x  = 2"
   ]
  },
  {
   "cell_type": "code",
   "execution_count": 2,
   "id": "e073a7bf",
   "metadata": {},
   "outputs": [
    {
     "name": "stdout",
     "output_type": "stream",
     "text": [
      "<class 'int'>\n"
     ]
    }
   ],
   "source": [
    "print(type(x))"
   ]
  },
  {
   "cell_type": "code",
   "execution_count": 3,
   "id": "55086962",
   "metadata": {},
   "outputs": [],
   "source": [
    "y = 2.5"
   ]
  },
  {
   "cell_type": "code",
   "execution_count": 4,
   "id": "128229b5",
   "metadata": {},
   "outputs": [
    {
     "name": "stdout",
     "output_type": "stream",
     "text": [
      "<class 'float'>\n"
     ]
    }
   ],
   "source": [
    "print(type(y))"
   ]
  },
  {
   "cell_type": "code",
   "execution_count": 5,
   "id": "87b67468",
   "metadata": {},
   "outputs": [
    {
     "name": "stdout",
     "output_type": "stream",
     "text": [
      "4\n"
     ]
    }
   ],
   "source": [
    "a, b =4, 5.0\n",
    "print(a)"
   ]
  },
  {
   "cell_type": "code",
   "execution_count": 6,
   "id": "a9e309cb",
   "metadata": {},
   "outputs": [
    {
     "name": "stdout",
     "output_type": "stream",
     "text": [
      "5.0\n"
     ]
    }
   ],
   "source": [
    "print(b)"
   ]
  },
  {
   "cell_type": "code",
   "execution_count": 7,
   "id": "9a55e8dd",
   "metadata": {},
   "outputs": [
    {
     "name": "stdout",
     "output_type": "stream",
     "text": [
      "<class 'float'>\n"
     ]
    }
   ],
   "source": [
    "print(type(b))"
   ]
  },
  {
   "cell_type": "code",
   "execution_count": 8,
   "id": "274711f8",
   "metadata": {},
   "outputs": [],
   "source": [
    "s = \"Hello World\""
   ]
  },
  {
   "cell_type": "code",
   "execution_count": 9,
   "id": "3416e310",
   "metadata": {},
   "outputs": [
    {
     "name": "stdout",
     "output_type": "stream",
     "text": [
      "<class 'str'>\n"
     ]
    }
   ],
   "source": [
    "print(type(s))"
   ]
  },
  {
   "cell_type": "code",
   "execution_count": 10,
   "id": "0f18397f",
   "metadata": {},
   "outputs": [],
   "source": [
    "del x"
   ]
  },
  {
   "cell_type": "code",
   "execution_count": 11,
   "id": "0580e508",
   "metadata": {},
   "outputs": [
    {
     "ename": "NameError",
     "evalue": "name 'x' is not defined",
     "output_type": "error",
     "traceback": [
      "\u001b[0;31m---------------------------------------------------------------------------\u001b[0m",
      "\u001b[0;31mNameError\u001b[0m                                 Traceback (most recent call last)",
      "\u001b[0;32m<ipython-input-11-fc17d851ef81>\u001b[0m in \u001b[0;36m<module>\u001b[0;34m\u001b[0m\n\u001b[0;32m----> 1\u001b[0;31m \u001b[0mprint\u001b[0m\u001b[0;34m(\u001b[0m\u001b[0mx\u001b[0m\u001b[0;34m)\u001b[0m\u001b[0;34m\u001b[0m\u001b[0;34m\u001b[0m\u001b[0m\n\u001b[0m",
      "\u001b[0;31mNameError\u001b[0m: name 'x' is not defined"
     ]
    }
   ],
   "source": [
    "print(x)"
   ]
  },
  {
   "cell_type": "code",
   "execution_count": 12,
   "id": "009ced0c",
   "metadata": {},
   "outputs": [],
   "source": [
    "#because the variable x was deleted using del function"
   ]
  },
  {
   "cell_type": "code",
   "execution_count": 13,
   "id": "8a858ac9",
   "metadata": {},
   "outputs": [
    {
     "name": "stdout",
     "output_type": "stream",
     "text": [
      "Variable   Type     Data/Info\n",
      "-----------------------------\n",
      "a          int      4\n",
      "b          float    5.0\n",
      "s          str      Hello World\n",
      "y          float    2.5\n"
     ]
    }
   ],
   "source": [
    "%whos\n"
   ]
  },
  {
   "cell_type": "code",
   "execution_count": 14,
   "id": "97b0d751",
   "metadata": {},
   "outputs": [],
   "source": [
    "#to check all the vars in the memory along with their type and data"
   ]
  },
  {
   "cell_type": "markdown",
   "id": "8deb04d4",
   "metadata": {},
   "source": [
    "# Operators"
   ]
  },
  {
   "cell_type": "code",
   "execution_count": 15,
   "id": "ff0d45ba",
   "metadata": {},
   "outputs": [
    {
     "name": "stdout",
     "output_type": "stream",
     "text": [
      "Variable   Type     Data/Info\n",
      "-----------------------------\n",
      "a          int      4\n",
      "b          float    5.0\n",
      "s          str      Hello World\n",
      "y          float    2.5\n"
     ]
    }
   ],
   "source": [
    "%whos"
   ]
  },
  {
   "cell_type": "code",
   "execution_count": 16,
   "id": "4e60afca",
   "metadata": {},
   "outputs": [
    {
     "name": "stdout",
     "output_type": "stream",
     "text": [
      "9.0\n"
     ]
    }
   ],
   "source": [
    "sum_ab = a + b\n",
    "print(sum_ab)"
   ]
  },
  {
   "cell_type": "code",
   "execution_count": 17,
   "id": "f1a3799f",
   "metadata": {},
   "outputs": [
    {
     "name": "stdout",
     "output_type": "stream",
     "text": [
      "<class 'float'>\n"
     ]
    }
   ],
   "source": [
    "print(type(sum_ab))"
   ]
  },
  {
   "cell_type": "code",
   "execution_count": 19,
   "id": "324ededd",
   "metadata": {},
   "outputs": [
    {
     "name": "stdout",
     "output_type": "stream",
     "text": [
      "0.8\n"
     ]
    }
   ],
   "source": [
    " v = a/b\n",
    " print(v)"
   ]
  },
  {
   "cell_type": "code",
   "execution_count": 20,
   "id": "b5910f21",
   "metadata": {},
   "outputs": [
    {
     "name": "stdout",
     "output_type": "stream",
     "text": [
      "0.0\n"
     ]
    }
   ],
   "source": [
    "v = a//b\n",
    "print(v)"
   ]
  },
  {
   "cell_type": "code",
   "execution_count": 21,
   "id": "9b923c26",
   "metadata": {},
   "outputs": [
    {
     "name": "stdout",
     "output_type": "stream",
     "text": [
      "helloworld\n"
     ]
    }
   ],
   "source": [
    "s1 = \"hello\"\n",
    "s2 = \"world\"\n",
    "s3 = s1 + s2\n",
    "print(s3)"
   ]
  },
  {
   "cell_type": "code",
   "execution_count": 22,
   "id": "2138a38c",
   "metadata": {},
   "outputs": [
    {
     "name": "stdout",
     "output_type": "stream",
     "text": [
      "\n"
     ]
    }
   ],
   "source": [
    "print(_)"
   ]
  },
  {
   "cell_type": "code",
   "execution_count": 23,
   "id": "b3badc4b",
   "metadata": {},
   "outputs": [
    {
     "data": {
      "text/plain": [
       "3.3333333333333335"
      ]
     },
     "execution_count": 23,
     "metadata": {},
     "output_type": "execute_result"
    }
   ],
   "source": [
    "10/3"
   ]
  },
  {
   "cell_type": "code",
   "execution_count": 24,
   "id": "7f15642e",
   "metadata": {},
   "outputs": [
    {
     "name": "stdout",
     "output_type": "stream",
     "text": [
      "3.3333333333333335\n"
     ]
    }
   ],
   "source": [
    "print(_)"
   ]
  },
  {
   "cell_type": "code",
   "execution_count": 25,
   "id": "18d9d649",
   "metadata": {},
   "outputs": [],
   "source": [
    "# _ stores the latest data that was not stored in any variable"
   ]
  },
  {
   "cell_type": "markdown",
   "id": "9a2e85e3",
   "metadata": {},
   "source": [
    "# Bool"
   ]
  },
  {
   "cell_type": "code",
   "execution_count": 26,
   "id": "3d476051",
   "metadata": {},
   "outputs": [],
   "source": [
    "a  = True\n",
    "b = True\n",
    "c = False\n"
   ]
  },
  {
   "cell_type": "code",
   "execution_count": 27,
   "id": "57b21994",
   "metadata": {},
   "outputs": [
    {
     "name": "stdout",
     "output_type": "stream",
     "text": [
      "Variable   Type     Data/Info\n",
      "-----------------------------\n",
      "a          bool     True\n",
      "b          bool     True\n",
      "c          bool     False\n",
      "s          str      Hello World\n",
      "s1         str      hello\n",
      "s2         str      world\n",
      "s3         str      helloworld\n",
      "sum_ab     float    9.0\n",
      "v          float    0.0\n",
      "y          float    2.5\n"
     ]
    }
   ],
   "source": [
    "%whos\n"
   ]
  },
  {
   "cell_type": "code",
   "execution_count": 28,
   "id": "e1edc324",
   "metadata": {},
   "outputs": [
    {
     "name": "stdout",
     "output_type": "stream",
     "text": [
      "True\n"
     ]
    }
   ],
   "source": [
    "print(a and b)"
   ]
  },
  {
   "cell_type": "code",
   "execution_count": 29,
   "id": "b31e2760",
   "metadata": {},
   "outputs": [
    {
     "name": "stdout",
     "output_type": "stream",
     "text": [
      "False\n",
      "False\n"
     ]
    }
   ],
   "source": [
    "print(a and c)\n",
    "print(c and b)"
   ]
  },
  {
   "cell_type": "code",
   "execution_count": 30,
   "id": "28e3b7ea",
   "metadata": {},
   "outputs": [
    {
     "name": "stdout",
     "output_type": "stream",
     "text": [
      "True\n"
     ]
    }
   ],
   "source": [
    "d = a or c\n",
    "print(d)"
   ]
  },
  {
   "cell_type": "code",
   "execution_count": 31,
   "id": "ad07cf0f",
   "metadata": {},
   "outputs": [],
   "source": [
    "#because or looks at atleast one true"
   ]
  },
  {
   "cell_type": "code",
   "execution_count": 32,
   "id": "ac0f781c",
   "metadata": {},
   "outputs": [
    {
     "data": {
      "text/plain": [
       "False"
      ]
     },
     "execution_count": 32,
     "metadata": {},
     "output_type": "execute_result"
    }
   ],
   "source": [
    "not(a)"
   ]
  },
  {
   "cell_type": "code",
   "execution_count": 33,
   "id": "a681d5c4",
   "metadata": {},
   "outputs": [
    {
     "data": {
      "text/plain": [
       "False"
      ]
     },
     "execution_count": 33,
     "metadata": {},
     "output_type": "execute_result"
    }
   ],
   "source": [
    "not(b)"
   ]
  },
  {
   "cell_type": "code",
   "execution_count": 34,
   "id": "f0369d4e",
   "metadata": {},
   "outputs": [
    {
     "data": {
      "text/plain": [
       "True"
      ]
     },
     "execution_count": 34,
     "metadata": {},
     "output_type": "execute_result"
    }
   ],
   "source": [
    "not(c)"
   ]
  },
  {
   "cell_type": "code",
   "execution_count": 35,
   "id": "480e8858",
   "metadata": {},
   "outputs": [
    {
     "data": {
      "text/plain": [
       "bool"
      ]
     },
     "execution_count": 35,
     "metadata": {},
     "output_type": "execute_result"
    }
   ],
   "source": [
    "type(c)"
   ]
  },
  {
   "cell_type": "code",
   "execution_count": 36,
   "id": "5b65478b",
   "metadata": {},
   "outputs": [
    {
     "data": {
      "text/plain": [
       "True"
      ]
     },
     "execution_count": 36,
     "metadata": {},
     "output_type": "execute_result"
    }
   ],
   "source": [
    "(a and b) or (c or d)"
   ]
  },
  {
   "cell_type": "code",
   "execution_count": 37,
   "id": "ac43c158",
   "metadata": {},
   "outputs": [
    {
     "data": {
      "text/plain": [
       "False"
      ]
     },
     "execution_count": 37,
     "metadata": {},
     "output_type": "execute_result"
    }
   ],
   "source": [
    "not((a and b) or (c or d))"
   ]
  },
  {
   "cell_type": "markdown",
   "id": "e30c6945",
   "metadata": {},
   "source": [
    "# Comparison Operators"
   ]
  },
  {
   "cell_type": "code",
   "execution_count": 38,
   "id": "8fda1e80",
   "metadata": {},
   "outputs": [
    {
     "name": "stdout",
     "output_type": "stream",
     "text": [
      "True\n"
     ]
    }
   ],
   "source": [
    "print(2<3)"
   ]
  },
  {
   "cell_type": "code",
   "execution_count": 39,
   "id": "6e6ae0c3",
   "metadata": {},
   "outputs": [
    {
     "name": "stdout",
     "output_type": "stream",
     "text": [
      "True\n"
     ]
    }
   ],
   "source": [
    "c  = 2<3\n",
    "print(c)"
   ]
  },
  {
   "cell_type": "code",
   "execution_count": 40,
   "id": "547b713c",
   "metadata": {},
   "outputs": [
    {
     "data": {
      "text/plain": [
       "bool"
      ]
     },
     "execution_count": 40,
     "metadata": {},
     "output_type": "execute_result"
    }
   ],
   "source": [
    "type(c)"
   ]
  },
  {
   "cell_type": "code",
   "execution_count": 41,
   "id": "fb88e848",
   "metadata": {},
   "outputs": [
    {
     "data": {
      "text/plain": [
       "False"
      ]
     },
     "execution_count": 41,
     "metadata": {},
     "output_type": "execute_result"
    }
   ],
   "source": [
    "3 == 4"
   ]
  },
  {
   "cell_type": "code",
   "execution_count": 42,
   "id": "2f61b568",
   "metadata": {},
   "outputs": [
    {
     "data": {
      "text/plain": [
       "True"
      ]
     },
     "execution_count": 42,
     "metadata": {},
     "output_type": "execute_result"
    }
   ],
   "source": [
    "3 != 4"
   ]
  },
  {
   "cell_type": "code",
   "execution_count": 43,
   "id": "435f78e1",
   "metadata": {},
   "outputs": [
    {
     "data": {
      "text/plain": [
       "True"
      ]
     },
     "execution_count": 43,
     "metadata": {},
     "output_type": "execute_result"
    }
   ],
   "source": [
    "3 == 3.0"
   ]
  },
  {
   "cell_type": "code",
   "execution_count": 44,
   "id": "02f8b70d",
   "metadata": {},
   "outputs": [
    {
     "ename": "SyntaxError",
     "evalue": "invalid syntax (<ipython-input-44-6108400f2252>, line 1)",
     "output_type": "error",
     "traceback": [
      "\u001b[0;36m  File \u001b[0;32m\"<ipython-input-44-6108400f2252>\"\u001b[0;36m, line \u001b[0;32m1\u001b[0m\n\u001b[0;31m    3 === 3.0\u001b[0m\n\u001b[0m        ^\u001b[0m\n\u001b[0;31mSyntaxError\u001b[0m\u001b[0;31m:\u001b[0m invalid syntax\n"
     ]
    }
   ],
   "source": [
    "3 === 3.0"
   ]
  },
  {
   "cell_type": "code",
   "execution_count": 45,
   "id": "15de9270",
   "metadata": {},
   "outputs": [],
   "source": [
    "# === only in js"
   ]
  },
  {
   "cell_type": "code",
   "execution_count": 46,
   "id": "1196911b",
   "metadata": {},
   "outputs": [],
   "source": [
    "x, y,z,r = 4,9,8.3,-3"
   ]
  },
  {
   "cell_type": "code",
   "execution_count": 47,
   "id": "5115b9a7",
   "metadata": {},
   "outputs": [
    {
     "data": {
      "text/plain": [
       "True"
      ]
     },
     "execution_count": 47,
     "metadata": {},
     "output_type": "execute_result"
    }
   ],
   "source": [
    "(x<y) and (z<y) or (r==x)"
   ]
  },
  {
   "cell_type": "code",
   "execution_count": 48,
   "id": "d403fc18",
   "metadata": {},
   "outputs": [
    {
     "data": {
      "text/plain": [
       "True"
      ]
     },
     "execution_count": 48,
     "metadata": {},
     "output_type": "execute_result"
    }
   ],
   "source": [
    "(x<y) and (r==x)or (z<y) "
   ]
  },
  {
   "cell_type": "code",
   "execution_count": 49,
   "id": "74c1e512",
   "metadata": {},
   "outputs": [
    {
     "data": {
      "text/plain": [
       "True"
      ]
     },
     "execution_count": 49,
     "metadata": {},
     "output_type": "execute_result"
    }
   ],
   "source": [
    "True or False and True"
   ]
  },
  {
   "cell_type": "code",
   "execution_count": 51,
   "id": "0df9584d",
   "metadata": {},
   "outputs": [
    {
     "data": {
      "text/plain": [
       "False"
      ]
     },
     "execution_count": 51,
     "metadata": {},
     "output_type": "execute_result"
    }
   ],
   "source": [
    "False or False and True"
   ]
  },
  {
   "cell_type": "code",
   "execution_count": 52,
   "id": "3a90b163",
   "metadata": {},
   "outputs": [
    {
     "data": {
      "text/plain": [
       "False"
      ]
     },
     "execution_count": 52,
     "metadata": {},
     "output_type": "execute_result"
    }
   ],
   "source": [
    "True and False"
   ]
  },
  {
   "cell_type": "code",
   "execution_count": 55,
   "id": "7f1c5c9f",
   "metadata": {},
   "outputs": [],
   "source": [
    "#print((not(2!=3) and True) or (False and True)) ???"
   ]
  },
  {
   "cell_type": "markdown",
   "id": "43b43a50",
   "metadata": {},
   "source": [
    "# in-built functions"
   ]
  },
  {
   "cell_type": "code",
   "execution_count": 56,
   "id": "d608bce5",
   "metadata": {},
   "outputs": [],
   "source": [
    "#round() : rounds up the number to nearest integer or specified places"
   ]
  },
  {
   "cell_type": "code",
   "execution_count": 57,
   "id": "95d044ab",
   "metadata": {},
   "outputs": [
    {
     "name": "stdout",
     "output_type": "stream",
     "text": [
      "5\n"
     ]
    }
   ],
   "source": [
    "print(round(4.6))"
   ]
  },
  {
   "cell_type": "code",
   "execution_count": 58,
   "id": "e528a5a2",
   "metadata": {},
   "outputs": [
    {
     "name": "stdout",
     "output_type": "stream",
     "text": [
      "4.7\n"
     ]
    }
   ],
   "source": [
    "print(round(4.667,1))"
   ]
  },
  {
   "cell_type": "code",
   "execution_count": 59,
   "id": "4ac6cbfe",
   "metadata": {},
   "outputs": [],
   "source": [
    "#divmod : returns tuple with quotent and remainder"
   ]
  },
  {
   "cell_type": "code",
   "execution_count": 60,
   "id": "ebd821c4",
   "metadata": {},
   "outputs": [
    {
     "data": {
      "text/plain": [
       "(2, 2)"
      ]
     },
     "execution_count": 60,
     "metadata": {},
     "output_type": "execute_result"
    }
   ],
   "source": [
    "divmod(22,10)"
   ]
  },
  {
   "cell_type": "code",
   "execution_count": 62,
   "id": "08ffbf20",
   "metadata": {},
   "outputs": [],
   "source": [
    "g = divmod(34,9)"
   ]
  },
  {
   "cell_type": "code",
   "execution_count": 63,
   "id": "e89a93b0",
   "metadata": {},
   "outputs": [
    {
     "data": {
      "text/plain": [
       "3"
      ]
     },
     "execution_count": 63,
     "metadata": {},
     "output_type": "execute_result"
    }
   ],
   "source": [
    "g[0]"
   ]
  },
  {
   "cell_type": "code",
   "execution_count": 64,
   "id": "2f90c766",
   "metadata": {},
   "outputs": [
    {
     "data": {
      "text/plain": [
       "7"
      ]
     },
     "execution_count": 64,
     "metadata": {},
     "output_type": "execute_result"
    }
   ],
   "source": [
    "g[1]"
   ]
  },
  {
   "cell_type": "code",
   "execution_count": 65,
   "id": "1070b46a",
   "metadata": {},
   "outputs": [],
   "source": [
    "#isinstance : check if that data is of certain data type (a,(data_types))"
   ]
  },
  {
   "cell_type": "code",
   "execution_count": 66,
   "id": "a1a1c5b2",
   "metadata": {},
   "outputs": [
    {
     "name": "stdout",
     "output_type": "stream",
     "text": [
      "True\n"
     ]
    }
   ],
   "source": [
    "print(isinstance(1,(int,float,str)))"
   ]
  },
  {
   "cell_type": "code",
   "execution_count": 67,
   "id": "d38867fa",
   "metadata": {},
   "outputs": [
    {
     "name": "stdout",
     "output_type": "stream",
     "text": [
      "False\n"
     ]
    }
   ],
   "source": [
    "print(isinstance(1,(str)))"
   ]
  },
  {
   "cell_type": "code",
   "execution_count": 68,
   "id": "e97a90e0",
   "metadata": {},
   "outputs": [
    {
     "name": "stdout",
     "output_type": "stream",
     "text": [
      "True\n"
     ]
    }
   ],
   "source": [
    "print(isinstance(1,(int,float)))"
   ]
  },
  {
   "cell_type": "code",
   "execution_count": 69,
   "id": "24a275bd",
   "metadata": {},
   "outputs": [
    {
     "name": "stdout",
     "output_type": "stream",
     "text": [
      "True\n"
     ]
    }
   ],
   "source": [
    "print(isinstance(1,(int,str)))"
   ]
  },
  {
   "cell_type": "code",
   "execution_count": 70,
   "id": "dea8777a",
   "metadata": {},
   "outputs": [],
   "source": [
    "# pow :  pow(x,y,z) x raise y remainder z"
   ]
  },
  {
   "cell_type": "code",
   "execution_count": 71,
   "id": "f322e8b0",
   "metadata": {},
   "outputs": [
    {
     "data": {
      "text/plain": [
       "16"
      ]
     },
     "execution_count": 71,
     "metadata": {},
     "output_type": "execute_result"
    }
   ],
   "source": [
    "pow(2,4)"
   ]
  },
  {
   "cell_type": "code",
   "execution_count": 73,
   "id": "7a3995ca",
   "metadata": {},
   "outputs": [
    {
     "data": {
      "text/plain": [
       "2"
      ]
     },
     "execution_count": 73,
     "metadata": {},
     "output_type": "execute_result"
    }
   ],
   "source": [
    "pow(2,4,7)"
   ]
  },
  {
   "cell_type": "code",
   "execution_count": 75,
   "id": "f0d8d3f3",
   "metadata": {},
   "outputs": [],
   "source": [
    "#input : take input from keyboard. the var will be of type string"
   ]
  },
  {
   "cell_type": "code",
   "execution_count": 77,
   "id": "df71e759",
   "metadata": {},
   "outputs": [
    {
     "name": "stdout",
     "output_type": "stream",
     "text": [
      "enter a number: 55\n"
     ]
    }
   ],
   "source": [
    "x = input(\"enter a number: \")"
   ]
  },
  {
   "cell_type": "code",
   "execution_count": 78,
   "id": "18ecfd5a",
   "metadata": {},
   "outputs": [
    {
     "data": {
      "text/plain": [
       "str"
      ]
     },
     "execution_count": 78,
     "metadata": {},
     "output_type": "execute_result"
    }
   ],
   "source": [
    "type(x\n",
    "    )"
   ]
  },
  {
   "cell_type": "code",
   "execution_count": 81,
   "id": "6b32a262",
   "metadata": {},
   "outputs": [],
   "source": [
    "x = int(x)"
   ]
  },
  {
   "cell_type": "code",
   "execution_count": 82,
   "id": "01cd8f2c",
   "metadata": {},
   "outputs": [
    {
     "data": {
      "text/plain": [
       "int"
      ]
     },
     "execution_count": 82,
     "metadata": {},
     "output_type": "execute_result"
    }
   ],
   "source": [
    "type(x)"
   ]
  },
  {
   "cell_type": "markdown",
   "id": "0a0d11ff",
   "metadata": {},
   "source": [
    "# Control Flow\n"
   ]
  },
  {
   "cell_type": "code",
   "execution_count": 88,
   "id": "8955d91f",
   "metadata": {},
   "outputs": [
    {
     "name": "stdout",
     "output_type": "stream",
     "text": [
      "2\n",
      "3\n"
     ]
    }
   ],
   "source": [
    "a,b  = int(input()), int(input())\n"
   ]
  },
  {
   "cell_type": "code",
   "execution_count": 89,
   "id": "f5b2a083",
   "metadata": {},
   "outputs": [
    {
     "name": "stdout",
     "output_type": "stream",
     "text": [
      "3\n"
     ]
    }
   ],
   "source": [
    "if a > b:\n",
    "    print(a)\n",
    "else:\n",
    "    print(b)"
   ]
  },
  {
   "cell_type": "code",
   "execution_count": 90,
   "id": "4d12ca54",
   "metadata": {},
   "outputs": [
    {
     "name": "stdout",
     "output_type": "stream",
     "text": [
      "3\n"
     ]
    }
   ],
   "source": [
    "if b > a:\n",
    "    print(b)\n",
    "elif a == b:\n",
    "    print(\"equal numbers\")\n",
    "else:\n",
    "    print(a)"
   ]
  },
  {
   "cell_type": "code",
   "execution_count": 93,
   "id": "e16e1700",
   "metadata": {},
   "outputs": [
    {
     "name": "stdout",
     "output_type": "stream",
     "text": [
      "3\n"
     ]
    }
   ],
   "source": [
    "print(a) if a > b else print(\"equal\") if a == b else print(b)"
   ]
  },
  {
   "cell_type": "code",
   "execution_count": 94,
   "id": "4144647a",
   "metadata": {},
   "outputs": [],
   "source": [
    "#nested statement"
   ]
  },
  {
   "cell_type": "code",
   "execution_count": 95,
   "id": "97edf2ae",
   "metadata": {},
   "outputs": [
    {
     "name": "stdout",
     "output_type": "stream",
     "text": [
      "Enter a number22\n"
     ]
    }
   ],
   "source": [
    "x = int(input(\"Enter a number\"))"
   ]
  },
  {
   "cell_type": "code",
   "execution_count": 96,
   "id": "9a6c959e",
   "metadata": {},
   "outputs": [
    {
     "name": "stdout",
     "output_type": "stream",
     "text": [
      "number greater than 10\n",
      "greater than 20\n"
     ]
    }
   ],
   "source": [
    "if x > 10:\n",
    "    print(\"number greater than 10\")\n",
    "    if x > 20:\n",
    "        print(\"greater than 20\")\n",
    "    else:\n",
    "        print(\"not greater than 20\")"
   ]
  },
  {
   "cell_type": "code",
   "execution_count": 97,
   "id": "180830b3",
   "metadata": {},
   "outputs": [
    {
     "data": {
      "text/plain": [
       "'\\n   User will enter a floating point number. \\n   Your task is to find out the integer portion before the\\n   point, and then check whether the integer portion\\n   is an even number or not?\\n'"
      ]
     },
     "execution_count": 97,
     "metadata": {},
     "output_type": "execute_result"
    }
   ],
   "source": [
    "\"\"\"\n",
    "   User will enter a floating point number. \n",
    "   Your task is to find out the integer portion before the\n",
    "   point, and then check whether the integer portion\n",
    "   is an even number or not?\n",
    "\"\"\""
   ]
  },
  {
   "cell_type": "code",
   "execution_count": 8,
   "id": "c02ba066",
   "metadata": {},
   "outputs": [
    {
     "name": "stdout",
     "output_type": "stream",
     "text": [
      "enter a floating point number: -4.22\n",
      "-4\n",
      "even\n"
     ]
    }
   ],
   "source": [
    "num = float(input(\"enter a floating point number: \"))\n",
    "num = int(num)\n",
    "print(num)\n",
    "if num %2 == 0:\n",
    "    print(\"even\")\n",
    "else:\n",
    "    print(\"odd\")"
   ]
  },
  {
   "cell_type": "code",
   "execution_count": 9,
   "id": "4323e0a4",
   "metadata": {},
   "outputs": [],
   "source": [
    "#while loops"
   ]
  },
  {
   "cell_type": "code",
   "execution_count": 131,
   "id": "b74d99b1",
   "metadata": {},
   "outputs": [
    {
     "name": "stdout",
     "output_type": "stream",
     "text": [
      "Enter max iterations5\n",
      "inside else\n",
      "execute after pass\n",
      "2\n",
      "execute after pass\n",
      "inside else\n",
      "execute after pass\n",
      "4\n",
      "execute after pass\n",
      "done\n"
     ]
    }
   ],
   "source": [
    "n = int(input('Enter max iterations'))\n",
    "i = 1\n",
    "while i < n:\n",
    "    if i%2 == 0:\n",
    "        print(i)\n",
    "    else:\n",
    "        pass\n",
    "        print('inside else')\n",
    "    print('execute after pass')\n",
    "    i+=1\n",
    "print(\"done\")"
   ]
  },
  {
   "cell_type": "code",
   "execution_count": 13,
   "id": "6ae732b9",
   "metadata": {},
   "outputs": [
    {
     "name": "stdout",
     "output_type": "stream",
     "text": [
      "break\n"
     ]
    }
   ],
   "source": [
    "i = 1\n",
    "while True:\n",
    "    if i%9 == 0:\n",
    "        print('break')\n",
    "        break\n",
    "    else:\n",
    "        i +=1\n",
    "        continue\n",
    "    print(\"hello\")"
   ]
  },
  {
   "cell_type": "code",
   "execution_count": 15,
   "id": "48767c83",
   "metadata": {},
   "outputs": [
    {
     "name": "stdout",
     "output_type": "stream",
     "text": [
      "inside if\n",
      "inside if\n",
      "inside if\n",
      "inside if\n",
      "inside if\n",
      "inside if\n",
      "inside if\n",
      "inside if\n",
      "something\n",
      "something else\n"
     ]
    }
   ],
   "source": [
    "i = 1\n",
    "while True:\n",
    "    if i%9 !=0:\n",
    "        print('inside if')\n",
    "        i+=1\n",
    "        continue\n",
    "    print('something')\n",
    "    print('something else')\n",
    "    break"
   ]
  },
  {
   "cell_type": "code",
   "execution_count": 17,
   "id": "05836637",
   "metadata": {},
   "outputs": [
    {
     "name": "stdout",
     "output_type": "stream",
     "text": [
      "1\n",
      "2\n",
      "3\n",
      "4\n",
      "5\n",
      "6\n",
      "7\n",
      "8\n",
      "9\n",
      "10\n",
      "[0, 1, 4, 9, 16, 25, 36, 49, 64, 81]\n"
     ]
    }
   ],
   "source": [
    "l = []\n",
    "for i in range(10):\n",
    "    print(i+1)\n",
    "    l.append(i**2)\n",
    "print(l)"
   ]
  },
  {
   "cell_type": "code",
   "execution_count": 33,
   "id": "7da5dc19",
   "metadata": {},
   "outputs": [
    {
     "name": "stdout",
     "output_type": "stream",
     "text": [
      "4.9\n",
      "4.9\n",
      "4.9\n"
     ]
    }
   ],
   "source": [
    "s = {'apple',4.9,'cherry'}\n",
    "for o in s:\n",
    "    print(o)\n"
   ]
  },
  {
   "cell_type": "code",
   "execution_count": 34,
   "id": "6ac2bfbf",
   "metadata": {},
   "outputs": [
    {
     "name": "stdout",
     "output_type": "stream",
     "text": [
      "Variable   Type     Data/Info\n",
      "-----------------------------\n",
      "A          float    4.9\n",
      "a          float    4.9\n",
      "b          float    4.9\n",
      "c          float    4.9\n",
      "d          float    4.9\n",
      "i          float    4.9\n",
      "l          list     n=10\n",
      "n          int      5\n",
      "num        int      -4\n",
      "o          float    4.9\n",
      "s          set      {'cherry', 'apple', 4.9}\n",
      "x          float    4.9\n",
      "y          float    4.9\n",
      "z          float    4.9\n"
     ]
    }
   ],
   "source": [
    "%whos"
   ]
  },
  {
   "cell_type": "code",
   "execution_count": 35,
   "id": "41c1c6d2",
   "metadata": {},
   "outputs": [],
   "source": [
    "del A,a,b,c,d,i"
   ]
  },
  {
   "cell_type": "code",
   "execution_count": 43,
   "id": "49b578d9",
   "metadata": {},
   "outputs": [
    {
     "name": "stdout",
     "output_type": "stream",
     "text": [
      "Variable   Type    Data/Info\n",
      "----------------------------\n",
      "d          dict    n=2\n",
      "s          set     {'cherry', 'apple', 4.9}\n",
      "x          str     cherry\n",
      "y          str     cherry\n",
      "z          str     cherry\n"
     ]
    }
   ],
   "source": [
    "%whos\n"
   ]
  },
  {
   "cell_type": "code",
   "execution_count": 44,
   "id": "5d016e16",
   "metadata": {},
   "outputs": [],
   "source": [
    "del [d,s,x,y,z]"
   ]
  },
  {
   "cell_type": "code",
   "execution_count": 47,
   "id": "7759d662",
   "metadata": {},
   "outputs": [
    {
     "name": "stdout",
     "output_type": "stream",
     "text": [
      "apple 44\n",
      "cherry game\n"
     ]
    }
   ],
   "source": [
    "d = {'apple':44,'cherry':'game'}\n",
    "for y in d:\n",
    "    print(y,d[y])"
   ]
  },
  {
   "cell_type": "code",
   "execution_count": 48,
   "id": "acabc6d1",
   "metadata": {},
   "outputs": [],
   "source": [
    "#loop sorting practice"
   ]
  },
  {
   "cell_type": "code",
   "execution_count": 49,
   "id": "350344c2",
   "metadata": {},
   "outputs": [
    {
     "data": {
      "text/plain": [
       "'\\ngiven a list of numbers, make another list that contains\\nall the items in sorted order(ascending)\\n'"
      ]
     },
     "execution_count": 49,
     "metadata": {},
     "output_type": "execute_result"
    }
   ],
   "source": [
    "\"\"\"\n",
    "given a list of numbers, make another list that contains\n",
    "all the items in sorted order(ascending)\n",
    "\"\"\""
   ]
  },
  {
   "cell_type": "code",
   "execution_count": 172,
   "id": "dcabb22c",
   "metadata": {},
   "outputs": [
    {
     "name": "stdout",
     "output_type": "stream",
     "text": [
      "[-7, -4, -3, 1, 2, 5]\n"
     ]
    }
   ],
   "source": [
    "l1 = [-4,-7,1,2,5,-3]\n",
    "for i in range(len(l1)):\n",
    "    for j in range(i,len(l1)):\n",
    "        if l1[i] <= l1[j]:\n",
    "            pass\n",
    "        else:\n",
    "            [l1[i],l1[j]] = [l1[j],l1[i]]      \n",
    "print(l1)\n",
    "\n",
    "        \n",
    "\n",
    "    \n",
    "    \n",
    "        \n",
    "    \n",
    "    \n",
    "    "
   ]
  },
  {
   "cell_type": "code",
   "execution_count": 3,
   "id": "77ce0a0f",
   "metadata": {},
   "outputs": [
    {
     "name": "stdout",
     "output_type": "stream",
     "text": [
      "1    3    5   6\n"
     ]
    }
   ],
   "source": [
    "l1 = [int(x) for x in input().split()]"
   ]
  },
  {
   "cell_type": "code",
   "execution_count": 4,
   "id": "7cc1c52e",
   "metadata": {},
   "outputs": [
    {
     "name": "stdout",
     "output_type": "stream",
     "text": [
      "[1, 3, 5, 6]\n"
     ]
    }
   ],
   "source": [
    "\n",
    "print(l1)"
   ]
  },
  {
   "cell_type": "markdown",
   "id": "bad1c124",
   "metadata": {},
   "source": [
    "# Functions and Modules"
   ]
  },
  {
   "cell_type": "code",
   "execution_count": 132,
   "id": "7e3ac946",
   "metadata": {},
   "outputs": [],
   "source": [
    "def printSuccess():\n",
    "    print(\"I am done\")\n",
    "    print(\"send me another task\")"
   ]
  },
  {
   "cell_type": "code",
   "execution_count": 133,
   "id": "70ba446b",
   "metadata": {},
   "outputs": [
    {
     "name": "stdout",
     "output_type": "stream",
     "text": [
      "I am done\n",
      "send me another task\n"
     ]
    }
   ],
   "source": [
    "printSuccess()"
   ]
  },
  {
   "cell_type": "code",
   "execution_count": 136,
   "id": "8897c4bf",
   "metadata": {},
   "outputs": [],
   "source": [
    "len??\n",
    "#if ?? same as ? -> then function not written in plain python"
   ]
  },
  {
   "cell_type": "code",
   "execution_count": 139,
   "id": "a370d615",
   "metadata": {},
   "outputs": [],
   "source": [
    "def printMsg(msg):\n",
    "    if isinstance(msg,str):\n",
    "        print(msg)\n",
    "    else:\n",
    "        print(\"input not string\")\n",
    "        print('you supplied arg of type', type(msg))"
   ]
  },
  {
   "cell_type": "code",
   "execution_count": 147,
   "id": "f2ac6601",
   "metadata": {},
   "outputs": [
    {
     "name": "stdout",
     "output_type": "stream",
     "text": [
      "input not string\n",
      "you supplied arg of type <class 'int'>\n"
     ]
    }
   ],
   "source": [
    "printMsg(2)"
   ]
  },
  {
   "cell_type": "code",
   "execution_count": 141,
   "id": "1daec7cc",
   "metadata": {},
   "outputs": [],
   "source": [
    "#variable number of input arguments as list"
   ]
  },
  {
   "cell_type": "code",
   "execution_count": 143,
   "id": "d23b4342",
   "metadata": {},
   "outputs": [],
   "source": [
    "def add(*args):\n",
    "    sum = 0\n",
    "    for i in range(len(args)):\n",
    "        sum += args[i]\n",
    "    return sum"
   ]
  },
  {
   "cell_type": "code",
   "execution_count": 144,
   "id": "1f1be182",
   "metadata": {},
   "outputs": [
    {
     "data": {
      "text/plain": [
       "45"
      ]
     },
     "execution_count": 144,
     "metadata": {},
     "output_type": "execute_result"
    }
   ],
   "source": [
    "add(5,6,7,8,9,10)"
   ]
  },
  {
   "cell_type": "code",
   "execution_count": 146,
   "id": "6725a15f",
   "metadata": {},
   "outputs": [],
   "source": [
    "#variable nuber of input arguments as dictionary"
   ]
  },
  {
   "cell_type": "code",
   "execution_count": 160,
   "id": "5aadd6ef",
   "metadata": {},
   "outputs": [],
   "source": [
    "def printAllValues(**kw):\n",
    "    for key in kw:\n",
    "        print(key, kw[key])\n",
    "    "
   ]
  },
  {
   "cell_type": "code",
   "execution_count": 168,
   "id": "9d6f3f6f",
   "metadata": {},
   "outputs": [
    {
     "name": "stdout",
     "output_type": "stream",
     "text": [
      "a apple\n",
      "b ball\n"
     ]
    }
   ],
   "source": [
    "dictm = {'a':'apple','b':\"ball\"}\n",
    "\n",
    "printAllValues(dictm)"
   ]
  },
  {
   "cell_type": "code",
   "execution_count": 174,
   "id": "aaa11a09",
   "metadata": {},
   "outputs": [
    {
     "name": "stdout",
     "output_type": "stream",
     "text": [
      "[5, 5, 2, 3, 4]\n"
     ]
    }
   ],
   "source": [
    "l1 = [1,5,2,3,4]\n",
    "l2 = l1\n",
    "l2[0] = 5\n",
    "print(l1)"
   ]
  },
  {
   "cell_type": "code",
   "execution_count": 178,
   "id": "67f0db55",
   "metadata": {},
   "outputs": [
    {
     "name": "stdout",
     "output_type": "stream",
     "text": [
      "[2, 3, 4, 5, 5]\n"
     ]
    }
   ],
   "source": [
    "import sys\n",
    "sys.path.append('/home/utsav/Desktop/python_classes/ds/')\n",
    "import mySortingFunction as mysys\n",
    "\n",
    "print(mysys.sortListAsc(l1))\n"
   ]
  },
  {
   "cell_type": "markdown",
   "id": "422eac3a",
   "metadata": {},
   "source": [
    "# Strings\n"
   ]
  },
  {
   "cell_type": "code",
   "execution_count": 179,
   "id": "28dfa61e",
   "metadata": {},
   "outputs": [],
   "source": [
    "s = 'I am learning python'"
   ]
  },
  {
   "cell_type": "code",
   "execution_count": 180,
   "id": "19e58c38",
   "metadata": {},
   "outputs": [
    {
     "name": "stdout",
     "output_type": "stream",
     "text": [
      "I am learning python\n",
      "<class 'str'>\n"
     ]
    }
   ],
   "source": [
    "print(s)\n",
    "print(type(s))"
   ]
  },
  {
   "cell_type": "code",
   "execution_count": 229,
   "id": "c64ad2c7",
   "metadata": {},
   "outputs": [
    {
     "name": "stdout",
     "output_type": "stream",
     "text": [
      "not a palindrome\n"
     ]
    }
   ],
   "source": [
    "s1 = \"hello\"\n",
    "\n",
    "if s1 == s1[::-1]:\n",
    "    print(\"palindrome\")\n",
    "else:\n",
    "    print(\"not a palindrome\")"
   ]
  },
  {
   "cell_type": "code",
   "execution_count": 232,
   "id": "13246dd3",
   "metadata": {},
   "outputs": [
    {
     "name": "stdout",
     "output_type": "stream",
     "text": [
      "oll\n"
     ]
    }
   ],
   "source": [
    "print(s1[:-4:-1])"
   ]
  },
  {
   "cell_type": "code",
   "execution_count": 237,
   "id": "f9415c72",
   "metadata": {},
   "outputs": [
    {
     "name": "stdout",
     "output_type": "stream",
     "text": [
      "hi\n"
     ]
    }
   ],
   "source": [
    "s = \"hello\"\n",
    "s2=s\n",
    "s='hi'\n",
    "print(s)\n"
   ]
  },
  {
   "cell_type": "code",
   "execution_count": 244,
   "id": "fb8d9b27",
   "metadata": {},
   "outputs": [
    {
     "name": "stdout",
     "output_type": "stream",
     "text": [
      "A lot of spaces at the     beginniG AND end\n",
      "a lot of spaces at the     beginnig and end\n",
      "A LOT OF SPACES AT THE     BEGINNIG AND END\n",
      "['A', 'lot', 'of', 'spaces', 'at', 'the', 'beginniG', 'AND', 'end']\n"
     ]
    }
   ],
   "source": [
    "a = \"   A lot of spaces at the     beginniG AND end   \"\n",
    "b = a.strip()\n",
    "print(b)\n",
    "print(b.lower())\n",
    "print(b.upper())\n",
    "print(a.split())\n"
   ]
  },
  {
   "cell_type": "code",
   "execution_count": 22,
   "id": "3123a40e",
   "metadata": {},
   "outputs": [
    {
     "name": "stdout",
     "output_type": "stream",
     "text": [
      "2\n"
     ]
    }
   ],
   "source": [
    "myString =\"aabbbeesssaaaa\"\n",
    "print(myString.count('a',0,5))"
   ]
  },
  {
   "cell_type": "code",
   "execution_count": 11,
   "id": "c6cb7915",
   "metadata": {},
   "outputs": [],
   "source": [
    "myString.count??\n"
   ]
  },
  {
   "cell_type": "code",
   "execution_count": 24,
   "id": "771676f4",
   "metadata": {},
   "outputs": [
    {
     "data": {
      "text/plain": [
       "True"
      ]
     },
     "execution_count": 24,
     "metadata": {},
     "output_type": "execute_result"
    }
   ],
   "source": [
    "myString = \"aannakbc\"\n",
    "\"a\" in myString"
   ]
  },
  {
   "cell_type": "markdown",
   "id": "85bf2433",
   "metadata": {},
   "source": [
    "# Data Structures\n"
   ]
  },
  {
   "cell_type": "code",
   "execution_count": 26,
   "id": "7e9aedb8",
   "metadata": {},
   "outputs": [],
   "source": [
    "#how different data are stored\n",
    "#list (ordered, changeable/mutable, duplicates)\n",
    "#tuple (ordered, non-changeable/immutable, duplocates)\n",
    "#set (uordered, addable/removable, no-duplicates)\n",
    "#dictionary (unordered, changeable, no duplicates)"
   ]
  },
  {
   "cell_type": "code",
   "execution_count": 28,
   "id": "ae1cea08",
   "metadata": {},
   "outputs": [
    {
     "name": "stdout",
     "output_type": "stream",
     "text": [
      "[1, 2, 3, 4, 5]\n",
      "[6, 2, 3, 4, 5]\n"
     ]
    }
   ],
   "source": [
    "l1 = [1,2,3,4,5]\n",
    "l2 = l1.copy()\n",
    "l2[0] = 6\n",
    "print(l1)\n",
    "print(l2)"
   ]
  },
  {
   "cell_type": "code",
   "execution_count": 39,
   "id": "d4b62273",
   "metadata": {},
   "outputs": [
    {
     "data": {
      "text/plain": [
       "[4, 5, 6, 4, 5]"
      ]
     },
     "execution_count": 39,
     "metadata": {},
     "output_type": "execute_result"
    }
   ],
   "source": [
    "l1"
   ]
  },
  {
   "cell_type": "code",
   "execution_count": 42,
   "id": "45299430",
   "metadata": {},
   "outputs": [],
   "source": [
    "l1[:3] = [[4,5,6]]"
   ]
  },
  {
   "cell_type": "code",
   "execution_count": 43,
   "id": "152c1abc",
   "metadata": {},
   "outputs": [
    {
     "data": {
      "text/plain": [
       "[[4, 5, 6], 4, 5]"
      ]
     },
     "execution_count": 43,
     "metadata": {},
     "output_type": "execute_result"
    }
   ],
   "source": [
    "l1"
   ]
  },
  {
   "cell_type": "code",
   "execution_count": 44,
   "id": "e7e4ebce",
   "metadata": {},
   "outputs": [],
   "source": [
    "l = [1,2,4,4.9,'name',3]\n",
    "\n"
   ]
  },
  {
   "cell_type": "code",
   "execution_count": 45,
   "id": "afba7d98",
   "metadata": {},
   "outputs": [],
   "source": [
    "l = l + [\"how\", 'are','you']"
   ]
  },
  {
   "cell_type": "code",
   "execution_count": 46,
   "id": "15fe01a6",
   "metadata": {},
   "outputs": [
    {
     "data": {
      "text/plain": [
       "[1, 2, 4, 4.9, 'name', 3, 'how', 'are', 'you']"
      ]
     },
     "execution_count": 46,
     "metadata": {},
     "output_type": "execute_result"
    }
   ],
   "source": [
    "l"
   ]
  },
  {
   "cell_type": "code",
   "execution_count": 49,
   "id": "97e5d6d3",
   "metadata": {},
   "outputs": [
    {
     "data": {
      "text/plain": [
       "\"[ 1 ,   2 ,   4 ,   4 . 9 ,   ' n a m e ' ,   3 ,   ' h o w ' ,   ' a r e ' ,   ' y o u ' ]\""
      ]
     },
     "execution_count": 49,
     "metadata": {},
     "output_type": "execute_result"
    }
   ],
   "source": [
    "\" \".join(str(l))"
   ]
  },
  {
   "cell_type": "code",
   "execution_count": 51,
   "id": "e5c707bd",
   "metadata": {},
   "outputs": [
    {
     "data": {
      "text/plain": [
       "'my name'"
      ]
     },
     "execution_count": 51,
     "metadata": {},
     "output_type": "execute_result"
    }
   ],
   "source": [
    "l1 = [\"my\", \"name\"]\n",
    "\" \".join(l1)"
   ]
  },
  {
   "cell_type": "code",
   "execution_count": 65,
   "id": "6eea81d6",
   "metadata": {},
   "outputs": [],
   "source": [
    "d1 = {'name':'utsav'}\n",
    "d2 = {'address':'kathmandu'}\n",
    "# d3 = d1 + d2 (you cannot do this)\n",
    "d1.update(d2)\n"
   ]
  },
  {
   "cell_type": "code",
   "execution_count": 64,
   "id": "9d786a1e",
   "metadata": {},
   "outputs": [
    {
     "data": {
      "text/plain": [
       "{'name': 'utsav', 'address': 'kathmandu'}"
      ]
     },
     "execution_count": 64,
     "metadata": {},
     "output_type": "execute_result"
    }
   ],
   "source": [
    "d1"
   ]
  },
  {
   "cell_type": "code",
   "execution_count": 66,
   "id": "e8fb00e3",
   "metadata": {},
   "outputs": [],
   "source": [
    "d3 = d1.copy()"
   ]
  },
  {
   "cell_type": "code",
   "execution_count": 67,
   "id": "f6081f43",
   "metadata": {},
   "outputs": [
    {
     "data": {
      "text/plain": [
       "{'name': 'utsav', 'address': 'kathmandu'}"
      ]
     },
     "execution_count": 67,
     "metadata": {},
     "output_type": "execute_result"
    }
   ],
   "source": [
    "d3"
   ]
  },
  {
   "cell_type": "code",
   "execution_count": 74,
   "id": "a5e92c95",
   "metadata": {},
   "outputs": [],
   "source": [
    "t = (1,2,3,4,5)"
   ]
  },
  {
   "cell_type": "code",
   "execution_count": 75,
   "id": "206af8f5",
   "metadata": {},
   "outputs": [],
   "source": [
    "t2 = t[0:3]"
   ]
  },
  {
   "cell_type": "code",
   "execution_count": 76,
   "id": "cd4f9196",
   "metadata": {},
   "outputs": [
    {
     "data": {
      "text/plain": [
       "(1, 2, 3)"
      ]
     },
     "execution_count": 76,
     "metadata": {},
     "output_type": "execute_result"
    }
   ],
   "source": [
    "t2"
   ]
  },
  {
   "cell_type": "code",
   "execution_count": 77,
   "id": "66a4bd59",
   "metadata": {},
   "outputs": [
    {
     "data": {
      "text/plain": [
       "'\\n   Let say you are a teacher and you have different\\n   student records containing id of a student and the marks list in \\n   each subject where different students have taken different number\\n   of subjects. All these records are in hard copy. You want to enter \\n   all the data in computer and compute average marks of each student\\n   and display\\n'"
      ]
     },
     "execution_count": 77,
     "metadata": {},
     "output_type": "execute_result"
    }
   ],
   "source": [
    "\"\"\"\n",
    "   Let say you are a teacher and you have different\n",
    "   student records containing id of a student and the marks list in \n",
    "   each subject where different students have taken different number\n",
    "   of subjects. All these records are in hard copy. You want to enter \n",
    "   all the data in computer and compute average marks of each student\n",
    "   and display\n",
    "\"\"\""
   ]
  },
  {
   "cell_type": "code",
   "execution_count": 1,
   "id": "110a2a1e",
   "metadata": {},
   "outputs": [],
   "source": [
    "def getDataFromUser():\n",
    "    d = {}\n",
    "    while True:\n",
    "        student_name = input(\"Enter the name of the student: \")\n",
    "        marks = [int(x) for x in input(\"enter comma seperaed marks\").split(',')]\n",
    "        d[student_name]=marks\n",
    "        \n",
    "        ans = input(\"More data [Y/N]: \")\n",
    "        if ans.lower() == 'n':\n",
    "            break\n",
    "            \n",
    "    return d"
   ]
  },
  {
   "cell_type": "code",
   "execution_count": 2,
   "id": "0d27ec80",
   "metadata": {},
   "outputs": [
    {
     "name": "stdout",
     "output_type": "stream",
     "text": [
      "Enter the name of the student: utsav\n",
      "enter comma seperaed marks55,89,69,88,78\n",
      "More data [Y/N]: n\n"
     ]
    },
    {
     "data": {
      "text/plain": [
       "{'utsav': [55, 89, 69, 88, 78]}"
      ]
     },
     "execution_count": 2,
     "metadata": {},
     "output_type": "execute_result"
    }
   ],
   "source": [
    "getDataFromUser()"
   ]
  },
  {
   "cell_type": "code",
   "execution_count": 7,
   "id": "6f085fa7",
   "metadata": {},
   "outputs": [],
   "source": [
    "def getAverageScore():\n",
    "    data = getDataFromUser()\n",
    "    d2 = {}\n",
    "    for key in data:\n",
    "        avg = sum(data[key])/len(data[key])\n",
    "        d2[key] = round(avg,2)\n",
    "    return d2\n",
    "    "
   ]
  },
  {
   "cell_type": "code",
   "execution_count": 8,
   "id": "ba9fe3bc",
   "metadata": {},
   "outputs": [
    {
     "name": "stdout",
     "output_type": "stream",
     "text": [
      "Enter the name of the student: utsav\n",
      "enter comma seperaed marks85,44,22,14,55\n",
      "More data [Y/N]: y\n",
      "Enter the name of the student: prabha\n",
      "enter comma seperaed marks44,88,65,15\n",
      "More data [Y/N]: n\n"
     ]
    },
    {
     "data": {
      "text/plain": [
       "{'utsav': 44.0, 'prabha': 53.0}"
      ]
     },
     "execution_count": 8,
     "metadata": {},
     "output_type": "execute_result"
    }
   ],
   "source": [
    "getAverageScore()"
   ]
  },
  {
   "cell_type": "code",
   "execution_count": 12,
   "id": "93caf2fb",
   "metadata": {},
   "outputs": [
    {
     "name": "stdout",
     "output_type": "stream",
     "text": [
      "1\n",
      "2\n",
      "3\n"
     ]
    }
   ],
   "source": [
    "for i in range(1,4):\n",
    "    print(i)"
   ]
  },
  {
   "cell_type": "code",
   "execution_count": 6,
   "id": "ea9f3e2d",
   "metadata": {},
   "outputs": [],
   "source": [
    "x = [i for i in range(5) if i == 3 or i== 4]"
   ]
  },
  {
   "cell_type": "code",
   "execution_count": 7,
   "id": "392c8a4b",
   "metadata": {},
   "outputs": [
    {
     "data": {
      "text/plain": [
       "[3, 4]"
      ]
     },
     "execution_count": 7,
     "metadata": {},
     "output_type": "execute_result"
    }
   ],
   "source": [
    "x"
   ]
  },
  {
   "cell_type": "code",
   "execution_count": 9,
   "id": "fb1fadac",
   "metadata": {},
   "outputs": [
    {
     "name": "stdout",
     "output_type": "stream",
     "text": [
      "(0, 'aa') : [3, 4]\n",
      "(1, 'b') : [3, 4]\n",
      "(2, 'c') : [3, 4]\n"
     ]
    }
   ],
   "source": [
    "letters = ['aa','b','c']\n",
    "for ii in enumerate(letters):\n",
    "    print(ii,\":\",x)"
   ]
  },
  {
   "cell_type": "code",
   "execution_count": 11,
   "id": "07545c5f",
   "metadata": {},
   "outputs": [
    {
     "name": "stdout",
     "output_type": "stream",
     "text": [
      "p\n",
      "r\n",
      "o\n",
      "g\n",
      "r\n"
     ]
    }
   ],
   "source": [
    "for i in \"programming\":\n",
    "  if i == \"a\":\n",
    "    break\n",
    "  print(i)"
   ]
  },
  {
   "cell_type": "code",
   "execution_count": 12,
   "id": "4b0b20e0",
   "metadata": {},
   "outputs": [
    {
     "data": {
      "text/plain": [
       "[0.6709313964859867,\n",
       " 0.9738115340563225,\n",
       " 0.6064264401595373,\n",
       " 0.4066259803173813,\n",
       " 0.241007454546324,\n",
       " 0.9570332484250537,\n",
       " 0.2349020347673353,\n",
       " 0.8876755137054037,\n",
       " 0.9720131163571095,\n",
       " 0.1492980772443857,\n",
       " 0.9414046155591562,\n",
       " 0.5597323750561738,\n",
       " 0.7608989127589141,\n",
       " 0.5249642801198838,\n",
       " 0.1344891272249087,\n",
       " 0.9796560039964438,\n",
       " 0.06863221669260322,\n",
       " 0.8766064411366202,\n",
       " 0.5504489926930571,\n",
       " 0.4880661379761838]"
      ]
     },
     "execution_count": 12,
     "metadata": {},
     "output_type": "execute_result"
    }
   ],
   "source": [
    "import random\n",
    "random.seed(2427)\n",
    "\n",
    "def efficient_sample(n):\n",
    "  x = [ random.random()for x in range(n)]\n",
    "  return x\n",
    "\n",
    "efficient_sample(20)"
   ]
  },
  {
   "cell_type": "code",
   "execution_count": 13,
   "id": "89648fa6",
   "metadata": {},
   "outputs": [],
   "source": [
    "w = 'python'\n",
    "\n",
    "w_iterator = iter(w)"
   ]
  },
  {
   "cell_type": "code",
   "execution_count": 16,
   "id": "6d6cef76",
   "metadata": {},
   "outputs": [
    {
     "ename": "TypeError",
     "evalue": "'str_iterator' object is not callable",
     "output_type": "error",
     "traceback": [
      "\u001b[0;31m---------------------------------------------------------------------------\u001b[0m",
      "\u001b[0;31mTypeError\u001b[0m                                 Traceback (most recent call last)",
      "\u001b[0;32m<ipython-input-16-10bae5d01a2f>\u001b[0m in \u001b[0;36m<module>\u001b[0;34m\u001b[0m\n\u001b[0;32m----> 1\u001b[0;31m print(w_iterator('p')\n\u001b[0m\u001b[1;32m      2\u001b[0m     )\n",
      "\u001b[0;31mTypeError\u001b[0m: 'str_iterator' object is not callable"
     ]
    }
   ],
   "source": [
    "print(w_iterator('p')\n",
    "    )"
   ]
  },
  {
   "cell_type": "code",
   "execution_count": 19,
   "id": "cb2bd6ed",
   "metadata": {},
   "outputs": [
    {
     "ename": "TypeError",
     "evalue": "__init__() takes 0 positional arguments but 2 were given",
     "output_type": "error",
     "traceback": [
      "\u001b[0;31m---------------------------------------------------------------------------\u001b[0m",
      "\u001b[0;31mTypeError\u001b[0m                                 Traceback (most recent call last)",
      "\u001b[0;32m<ipython-input-19-eab833de2f9d>\u001b[0m in \u001b[0;36m<module>\u001b[0;34m\u001b[0m\n\u001b[1;32m      3\u001b[0m         \u001b[0mself\u001b[0m\u001b[0;34m.\u001b[0m\u001b[0mrgb_value\u001b[0m \u001b[0;34m=\u001b[0m \u001b[0mrgb_value\u001b[0m\u001b[0;34m\u001b[0m\u001b[0;34m\u001b[0m\u001b[0m\n\u001b[1;32m      4\u001b[0m \u001b[0;34m\u001b[0m\u001b[0m\n\u001b[0;32m----> 5\u001b[0;31m \u001b[0mc\u001b[0m \u001b[0;34m=\u001b[0m \u001b[0mColor\u001b[0m\u001b[0;34m(\u001b[0m\u001b[0;34m'#00ff66'\u001b[0m\u001b[0;34m)\u001b[0m\u001b[0;34m\u001b[0m\u001b[0;34m\u001b[0m\u001b[0m\n\u001b[0m\u001b[1;32m      6\u001b[0m \u001b[0;34m\u001b[0m\u001b[0m\n\u001b[1;32m      7\u001b[0m \u001b[0mc\u001b[0m\u001b[0;34m.\u001b[0m\u001b[0mrgb_value\u001b[0m\u001b[0;34m\u001b[0m\u001b[0;34m\u001b[0m\u001b[0m\n",
      "\u001b[0;31mTypeError\u001b[0m: __init__() takes 0 positional arguments but 2 were given"
     ]
    }
   ],
   "source": [
    "class Color:\n",
    "    def __init__():\n",
    "        self.rgb_value = rgb_value\n",
    "\n",
    "c = Color('#00ff66')\n",
    "\n",
    "c.rgb_value\n",
    "\n"
   ]
  },
  {
   "cell_type": "code",
   "execution_count": 26,
   "id": "7198c6d1",
   "metadata": {},
   "outputs": [
    {
     "ename": "AttributeError",
     "evalue": "'dict' object has no attribute 'get_value'",
     "output_type": "error",
     "traceback": [
      "\u001b[0;31m---------------------------------------------------------------------------\u001b[0m",
      "\u001b[0;31mAttributeError\u001b[0m                            Traceback (most recent call last)",
      "\u001b[0;32m<ipython-input-26-27de4603178e>\u001b[0m in \u001b[0;36m<module>\u001b[0;34m\u001b[0m\n\u001b[1;32m      6\u001b[0m }\n\u001b[1;32m      7\u001b[0m \u001b[0;34m\u001b[0m\u001b[0m\n\u001b[0;32m----> 8\u001b[0;31m \u001b[0md\u001b[0m\u001b[0;34m.\u001b[0m\u001b[0mget_value\u001b[0m\u001b[0;34m(\u001b[0m\u001b[0mkey\u001b[0m \u001b[0;34m==\u001b[0m \u001b[0;34m'three'\u001b[0m\u001b[0;34m)\u001b[0m\u001b[0;34m\u001b[0m\u001b[0;34m\u001b[0m\u001b[0m\n\u001b[0m",
      "\u001b[0;31mAttributeError\u001b[0m: 'dict' object has no attribute 'get_value'"
     ]
    }
   ],
   "source": [
    "d = {\n",
    "    'one': 1,\n",
    "    'two': 2,\n",
    "    'three': 3,\n",
    "    'four': 4\n",
    "}\n",
    "\n",
    "d.get_value(key == 'three')"
   ]
  },
  {
   "cell_type": "code",
   "execution_count": 27,
   "id": "61989087",
   "metadata": {},
   "outputs": [
    {
     "data": {
      "text/plain": [
       "[0, 3, 6, 9, 12]"
      ]
     },
     "execution_count": 27,
     "metadata": {},
     "output_type": "execute_result"
    }
   ],
   "source": [
    "[i * 3 for i in range(5)]"
   ]
  },
  {
   "cell_type": "code",
   "execution_count": 28,
   "id": "4560ba6c",
   "metadata": {},
   "outputs": [
    {
     "data": {
      "text/plain": [
       "'#00ff66'"
      ]
     },
     "execution_count": 28,
     "metadata": {},
     "output_type": "execute_result"
    }
   ],
   "source": [
    "class Color:\n",
    "    def __init__(self,rgb_value):\n",
    "         self.rgb_value= rgb_value\n",
    "\n",
    "c = Color('#00ff66')\n",
    "\n",
    "c.rgb_value"
   ]
  },
  {
   "cell_type": "code",
   "execution_count": 29,
   "id": "bf2162ab",
   "metadata": {},
   "outputs": [
    {
     "data": {
      "text/plain": [
       "{1, 2}"
      ]
     },
     "execution_count": 29,
     "metadata": {},
     "output_type": "execute_result"
    }
   ],
   "source": [
    "a = {1, 2, 3, 4}\n",
    "b = {3, 4, 5, 6}\n",
    "\n",
    "a.difference(b)"
   ]
  },
  {
   "cell_type": "code",
   "execution_count": 32,
   "id": "4f14a55f",
   "metadata": {},
   "outputs": [
    {
     "data": {
      "text/plain": [
       "0"
      ]
     },
     "execution_count": 32,
     "metadata": {},
     "output_type": "execute_result"
    }
   ],
   "source": [
    "x = iter([i for i in range(5)])\n",
    "\n",
    "next(x)"
   ]
  },
  {
   "cell_type": "code",
   "execution_count": 34,
   "id": "2ca321b7",
   "metadata": {},
   "outputs": [
    {
     "data": {
      "text/plain": [
       "3"
      ]
     },
     "execution_count": 34,
     "metadata": {},
     "output_type": "execute_result"
    }
   ],
   "source": [
    "def add_two(x :int)-> int:\n",
    "  return x + 2\n",
    "\n",
    "add_two(1)"
   ]
  },
  {
   "cell_type": "code",
   "execution_count": 35,
   "id": "84658b68",
   "metadata": {},
   "outputs": [
    {
     "data": {
      "text/plain": [
       "' a '"
      ]
     },
     "execution_count": 35,
     "metadata": {},
     "output_type": "execute_result"
    }
   ],
   "source": [
    "s = \"a\"\n",
    "\n",
    "s.center(3)"
   ]
  },
  {
   "cell_type": "code",
   "execution_count": 38,
   "id": "387b41b5",
   "metadata": {},
   "outputs": [
    {
     "ename": "TypeError",
     "evalue": "unsupported operand type(s) for *: 'function' and 'int'",
     "output_type": "error",
     "traceback": [
      "\u001b[0;31m---------------------------------------------------------------------------\u001b[0m",
      "\u001b[0;31mTypeError\u001b[0m                                 Traceback (most recent call last)",
      "\u001b[0;32m<ipython-input-38-ff4a11d2af57>\u001b[0m in \u001b[0;36m<module>\u001b[0;34m\u001b[0m\n\u001b[1;32m     14\u001b[0m   \u001b[0;32mreturn\u001b[0m \u001b[0ma\u001b[0m \u001b[0;34m-\u001b[0m \u001b[0mb\u001b[0m\u001b[0;34m\u001b[0m\u001b[0;34m\u001b[0m\u001b[0m\n\u001b[1;32m     15\u001b[0m \u001b[0;34m\u001b[0m\u001b[0m\n\u001b[0;32m---> 16\u001b[0;31m \u001b[0mprint\u001b[0m\u001b[0;34m(\u001b[0m\u001b[0madder\u001b[0m\u001b[0;34m(\u001b[0m\u001b[0;36m2\u001b[0m\u001b[0;34m,\u001b[0m\u001b[0;36m3\u001b[0m\u001b[0;34m)\u001b[0m\u001b[0;34m)\u001b[0m\u001b[0;34m\u001b[0m\u001b[0;34m\u001b[0m\u001b[0m\n\u001b[0m\u001b[1;32m     17\u001b[0m \u001b[0mprint\u001b[0m\u001b[0;34m(\u001b[0m\u001b[0msubtractor\u001b[0m\u001b[0;34m(\u001b[0m\u001b[0;36m2\u001b[0m\u001b[0;34m,\u001b[0m\u001b[0;36m3\u001b[0m\u001b[0;34m)\u001b[0m\u001b[0;34m)\u001b[0m\u001b[0;34m\u001b[0m\u001b[0;34m\u001b[0m\u001b[0m\n",
      "\u001b[0;32m<ipython-input-38-ff4a11d2af57>\u001b[0m in \u001b[0;36mwrapper\u001b[0;34m(*args, **kwargs)\u001b[0m\n\u001b[1;32m      2\u001b[0m         \u001b[0;32mdef\u001b[0m \u001b[0mmultiply_real_decorator\u001b[0m\u001b[0;34m(\u001b[0m\u001b[0mfunction\u001b[0m\u001b[0;34m)\u001b[0m\u001b[0;34m:\u001b[0m\u001b[0;34m\u001b[0m\u001b[0;34m\u001b[0m\u001b[0m\n\u001b[1;32m      3\u001b[0m                 \u001b[0;32mdef\u001b[0m \u001b[0mwrapper\u001b[0m\u001b[0;34m(\u001b[0m\u001b[0;34m*\u001b[0m\u001b[0margs\u001b[0m\u001b[0;34m,\u001b[0m\u001b[0;34m**\u001b[0m\u001b[0mkwargs\u001b[0m\u001b[0;34m)\u001b[0m\u001b[0;34m:\u001b[0m\u001b[0;34m\u001b[0m\u001b[0;34m\u001b[0m\u001b[0m\n\u001b[0;32m----> 4\u001b[0;31m                         \u001b[0;32mreturn\u001b[0m \u001b[0mby\u001b[0m \u001b[0;34m*\u001b[0m \u001b[0mfunction\u001b[0m\u001b[0;34m(\u001b[0m\u001b[0;34m*\u001b[0m\u001b[0margs\u001b[0m\u001b[0;34m,\u001b[0m\u001b[0;34m**\u001b[0m\u001b[0mkwargs\u001b[0m\u001b[0;34m)\u001b[0m\u001b[0;34m\u001b[0m\u001b[0;34m\u001b[0m\u001b[0m\n\u001b[0m\u001b[1;32m      5\u001b[0m                 \u001b[0;32mreturn\u001b[0m \u001b[0mwrapper\u001b[0m\u001b[0;34m\u001b[0m\u001b[0;34m\u001b[0m\u001b[0m\n\u001b[1;32m      6\u001b[0m         \u001b[0;32mreturn\u001b[0m \u001b[0mmultiply_real_decorator\u001b[0m\u001b[0;34m\u001b[0m\u001b[0;34m\u001b[0m\u001b[0m\n",
      "\u001b[0;31mTypeError\u001b[0m: unsupported operand type(s) for *: 'function' and 'int'"
     ]
    }
   ],
   "source": [
    "def multiply(by = None):\n",
    "\tdef multiply_real_decorator(function):\n",
    "\t\tdef wrapper(*args,**kwargs):\n",
    "\t\t\treturn by * function(*args,**kwargs)\n",
    "\t\treturn wrapper\n",
    "\treturn multiply_real_decorator\n",
    "\n",
    "@multiply(adder)\n",
    "def adder(a,b):\n",
    "  return a + b\n",
    "\n",
    "@multiply(subtractor)\n",
    "def subtractor(a,b):\n",
    "  return a - b\n",
    "\n",
    "print(adder(2,3))\n",
    "print(subtractor(2,3))\n"
   ]
  },
  {
   "cell_type": "code",
   "execution_count": 37,
   "id": "56ceca2a",
   "metadata": {},
   "outputs": [
    {
     "data": {
      "text/plain": [
       "['HELLO', 'WORLD']"
      ]
     },
     "execution_count": 37,
     "metadata": {},
     "output_type": "execute_result"
    }
   ],
   "source": [
    "[i.upper() for i in ['hello', 'world']]\n"
   ]
  },
  {
   "cell_type": "code",
   "execution_count": 40,
   "id": "2908cd31",
   "metadata": {},
   "outputs": [
    {
     "data": {
      "text/plain": [
       "{1, 2, 3}"
      ]
     },
     "execution_count": 40,
     "metadata": {},
     "output_type": "execute_result"
    }
   ],
   "source": [
    "x = (1, 2, 3)\n",
    "s=set(x)\n",
    "s"
   ]
  },
  {
   "cell_type": "code",
   "execution_count": 46,
   "id": "879d339e",
   "metadata": {},
   "outputs": [
    {
     "data": {
      "text/plain": [
       "{0, 10, 20, 30, 40}"
      ]
     },
     "execution_count": 46,
     "metadata": {},
     "output_type": "execute_result"
    }
   ],
   "source": [
    "dict_gen = {num*10 for num in range(5) }\n",
    "dict_gen"
   ]
  },
  {
   "cell_type": "code",
   "execution_count": 48,
   "id": "253aedf3",
   "metadata": {},
   "outputs": [
    {
     "data": {
      "text/plain": [
       "'meow!'"
      ]
     },
     "execution_count": 48,
     "metadata": {},
     "output_type": "execute_result"
    }
   ],
   "source": [
    "class Cat:   \n",
    "    def meow(self):\n",
    "        return 'meow!'\n",
    "\n",
    "s = Cat()\n",
    "\n",
    "s.meow()"
   ]
  },
  {
   "cell_type": "code",
   "execution_count": null,
   "id": "e3c3df94",
   "metadata": {},
   "outputs": [],
   "source": []
  }
 ],
 "metadata": {
  "kernelspec": {
   "display_name": "Python 3",
   "language": "python",
   "name": "python3"
  },
  "language_info": {
   "codemirror_mode": {
    "name": "ipython",
    "version": 3
   },
   "file_extension": ".py",
   "mimetype": "text/x-python",
   "name": "python",
   "nbconvert_exporter": "python",
   "pygments_lexer": "ipython3",
   "version": "3.8.8"
  }
 },
 "nbformat": 4,
 "nbformat_minor": 5
}
