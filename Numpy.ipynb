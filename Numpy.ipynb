{
 "cells": [
  {
   "cell_type": "markdown",
   "id": "f634c8e7",
   "metadata": {},
   "source": [
    "# Numpy"
   ]
  },
  {
   "cell_type": "code",
   "execution_count": 1,
   "id": "6e74c038",
   "metadata": {},
   "outputs": [],
   "source": [
    "#numpy is very fast"
   ]
  },
  {
   "cell_type": "code",
   "execution_count": 2,
   "id": "107e7264",
   "metadata": {},
   "outputs": [],
   "source": [
    "#efficient with respect to memory"
   ]
  },
  {
   "cell_type": "code",
   "execution_count": 3,
   "id": "9e4ce051",
   "metadata": {},
   "outputs": [],
   "source": [
    "#no need to save the type of data"
   ]
  },
  {
   "cell_type": "code",
   "execution_count": 2,
   "id": "9d23ad62",
   "metadata": {},
   "outputs": [
    {
     "name": "stdout",
     "output_type": "stream",
     "text": [
      "[1 2 3 4 5 6]\n",
      "[5 6 7 8]\n",
      "(6,)\n"
     ]
    }
   ],
   "source": [
    "import numpy as np\n",
    "\n",
    "a = np.array([1,2,3,4,5,6],dtype='i')\n",
    "b = np.array((5,6,7,8))\n",
    "\n",
    "print(a)\n",
    "print(b)\n",
    "print(a.shape)"
   ]
  },
  {
   "cell_type": "code",
   "execution_count": 6,
   "id": "90ba7165",
   "metadata": {},
   "outputs": [
    {
     "data": {
      "text/plain": [
       "numpy.ndarray"
      ]
     },
     "execution_count": 6,
     "metadata": {},
     "output_type": "execute_result"
    }
   ],
   "source": [
    "type(a)"
   ]
  },
  {
   "cell_type": "code",
   "execution_count": 36,
   "id": "0811ea38",
   "metadata": {},
   "outputs": [],
   "source": [
    "#nd array -> n dimensional array\n",
    "#dtype -> data type"
   ]
  },
  {
   "cell_type": "code",
   "execution_count": 10,
   "id": "d0a38a82",
   "metadata": {},
   "outputs": [
    {
     "data": {
      "text/plain": [
       "dtype('int32')"
      ]
     },
     "execution_count": 10,
     "metadata": {},
     "output_type": "execute_result"
    }
   ],
   "source": [
    "a.dtype\n"
   ]
  },
  {
   "cell_type": "markdown",
   "id": "6a07abd8",
   "metadata": {},
   "source": [
    "# Dimensions"
   ]
  },
  {
   "cell_type": "code",
   "execution_count": 44,
   "id": "42953368",
   "metadata": {},
   "outputs": [],
   "source": [
    "a = np.array([[1,3,4]])"
   ]
  },
  {
   "cell_type": "code",
   "execution_count": 45,
   "id": "da125607",
   "metadata": {},
   "outputs": [
    {
     "name": "stdout",
     "output_type": "stream",
     "text": [
      "2\n",
      "3\n",
      "(1, 3)\n"
     ]
    }
   ],
   "source": [
    "print(a.ndim)\n",
    "print(a[0,1])\n",
    "print(a.shape)"
   ]
  },
  {
   "cell_type": "code",
   "execution_count": 26,
   "id": "d7814f41",
   "metadata": {},
   "outputs": [],
   "source": [
    "b = np.array([[[1,2,3,5],[4,5,6,7]],[[1,2,3,5],[4,5,6,9]]])\n"
   ]
  },
  {
   "cell_type": "code",
   "execution_count": 42,
   "id": "e8896c48",
   "metadata": {},
   "outputs": [
    {
     "name": "stdout",
     "output_type": "stream",
     "text": [
      "3\n",
      "(2, 2, 4)\n"
     ]
    }
   ],
   "source": [
    "print(b.ndim)\n",
    "print(b.shape)"
   ]
  },
  {
   "cell_type": "code",
   "execution_count": 33,
   "id": "095dc909",
   "metadata": {},
   "outputs": [],
   "source": [
    "c  = np.array([[[-1,-2,-3],[-4,-5,-6],[-7,-8,-9],[[7,8,9],[1,2,4],[4,5,6]]])"
   ]
  },
  {
   "cell_type": "code",
   "execution_count": 34,
   "id": "b14e25ce",
   "metadata": {},
   "outputs": [
    {
     "data": {
      "text/plain": [
       "3"
      ]
     },
     "execution_count": 34,
     "metadata": {},
     "output_type": "execute_result"
    }
   ],
   "source": [
    "c.ndim"
   ]
  },
  {
   "cell_type": "code",
   "execution_count": 35,
   "id": "4ec2fa22",
   "metadata": {},
   "outputs": [
    {
     "data": {
      "text/plain": [
       "8"
      ]
     },
     "execution_count": 35,
     "metadata": {},
     "output_type": "execute_result"
    }
   ],
   "source": [
    "c[1,0,1]"
   ]
  },
  {
   "cell_type": "code",
   "execution_count": 37,
   "id": "8c59fada",
   "metadata": {},
   "outputs": [],
   "source": [
    "# ndim -> get the number of dimensions"
   ]
  },
  {
   "cell_type": "code",
   "execution_count": 38,
   "id": "7dde087b",
   "metadata": {},
   "outputs": [],
   "source": [
    "#shape"
   ]
  },
  {
   "cell_type": "code",
   "execution_count": 39,
   "id": "ec49e5f7",
   "metadata": {},
   "outputs": [
    {
     "name": "stdout",
     "output_type": "stream",
     "text": [
      "[[[-1 -2 -3]\n",
      "  [-4 -5 -6]\n",
      "  [-7 -8 -9]]\n",
      "\n",
      " [[ 7  8  9]\n",
      "  [ 1  2  4]\n",
      "  [ 4  5  6]]]\n"
     ]
    }
   ],
   "source": [
    "print(c)"
   ]
  },
  {
   "cell_type": "code",
   "execution_count": 40,
   "id": "32684de9",
   "metadata": {},
   "outputs": [
    {
     "data": {
      "text/plain": [
       "(2, 3, 3)"
      ]
     },
     "execution_count": 40,
     "metadata": {},
     "output_type": "execute_result"
    }
   ],
   "source": [
    "c.shape"
   ]
  },
  {
   "cell_type": "code",
   "execution_count": 46,
   "id": "47fe88b4",
   "metadata": {},
   "outputs": [],
   "source": [
    "B = np.array(4)"
   ]
  },
  {
   "cell_type": "code",
   "execution_count": 47,
   "id": "27540893",
   "metadata": {},
   "outputs": [
    {
     "data": {
      "text/plain": [
       "0"
      ]
     },
     "execution_count": 47,
     "metadata": {},
     "output_type": "execute_result"
    }
   ],
   "source": [
    "B.ndim"
   ]
  },
  {
   "cell_type": "code",
   "execution_count": 48,
   "id": "44940efb",
   "metadata": {},
   "outputs": [],
   "source": [
    "#concat multiple 0 d array to create 1 D array"
   ]
  },
  {
   "cell_type": "code",
   "execution_count": 49,
   "id": "c5c8dc73",
   "metadata": {},
   "outputs": [],
   "source": [
    "C = np.array(5)"
   ]
  },
  {
   "cell_type": "code",
   "execution_count": 50,
   "id": "8057762a",
   "metadata": {},
   "outputs": [],
   "source": [
    "D = B + C"
   ]
  },
  {
   "cell_type": "code",
   "execution_count": 51,
   "id": "845b91f1",
   "metadata": {},
   "outputs": [
    {
     "data": {
      "text/plain": [
       "9"
      ]
     },
     "execution_count": 51,
     "metadata": {},
     "output_type": "execute_result"
    }
   ],
   "source": [
    "D"
   ]
  },
  {
   "cell_type": "code",
   "execution_count": 52,
   "id": "4d2d1b80",
   "metadata": {},
   "outputs": [
    {
     "data": {
      "text/plain": [
       "0"
      ]
     },
     "execution_count": 52,
     "metadata": {},
     "output_type": "execute_result"
    }
   ],
   "source": [
    "D.ndim"
   ]
  },
  {
   "cell_type": "code",
   "execution_count": 53,
   "id": "66c2be07",
   "metadata": {},
   "outputs": [
    {
     "data": {
      "text/plain": [
       "18"
      ]
     },
     "execution_count": 53,
     "metadata": {},
     "output_type": "execute_result"
    }
   ],
   "source": [
    "c.size"
   ]
  },
  {
   "cell_type": "code",
   "execution_count": 54,
   "id": "ec521226",
   "metadata": {},
   "outputs": [
    {
     "data": {
      "text/plain": [
       "144"
      ]
     },
     "execution_count": 54,
     "metadata": {},
     "output_type": "execute_result"
    }
   ],
   "source": [
    "c.nbytes"
   ]
  },
  {
   "cell_type": "markdown",
   "id": "f2642c24",
   "metadata": {},
   "source": [
    "# Arange, Random and Reshape"
   ]
  },
  {
   "cell_type": "code",
   "execution_count": 55,
   "id": "b7ebe401",
   "metadata": {},
   "outputs": [],
   "source": [
    "a = np.arange(5)"
   ]
  },
  {
   "cell_type": "code",
   "execution_count": 56,
   "id": "83c9ca99",
   "metadata": {},
   "outputs": [
    {
     "data": {
      "text/plain": [
       "array([0, 1, 2, 3, 4])"
      ]
     },
     "execution_count": 56,
     "metadata": {},
     "output_type": "execute_result"
    }
   ],
   "source": [
    "a"
   ]
  },
  {
   "cell_type": "code",
   "execution_count": 59,
   "id": "29947fdb",
   "metadata": {},
   "outputs": [],
   "source": [
    "b = np.arange(20,29,4)"
   ]
  },
  {
   "cell_type": "code",
   "execution_count": 61,
   "id": "9c1560ec",
   "metadata": {},
   "outputs": [
    {
     "data": {
      "text/plain": [
       "array([20, 24, 28])"
      ]
     },
     "execution_count": 61,
     "metadata": {},
     "output_type": "execute_result"
    }
   ],
   "source": [
    "b"
   ]
  },
  {
   "cell_type": "code",
   "execution_count": 62,
   "id": "7a03c217",
   "metadata": {},
   "outputs": [],
   "source": [
    "A = np.random.permutation(np.arange(10))"
   ]
  },
  {
   "cell_type": "code",
   "execution_count": 64,
   "id": "04f307f3",
   "metadata": {},
   "outputs": [
    {
     "name": "stdout",
     "output_type": "stream",
     "text": [
      "[5 4 7 3 9 6 8 2 1 0]\n"
     ]
    }
   ],
   "source": [
    "print(A)"
   ]
  },
  {
   "cell_type": "code",
   "execution_count": 68,
   "id": "ee00e293",
   "metadata": {},
   "outputs": [
    {
     "name": "stdout",
     "output_type": "stream",
     "text": [
      "32\n"
     ]
    }
   ],
   "source": [
    "v = np.random.randint(20,40)\n",
    "print(v)"
   ]
  },
  {
   "cell_type": "code",
   "execution_count": 79,
   "id": "7f0015dc",
   "metadata": {},
   "outputs": [],
   "source": [
    "A = np.random.rand(5)"
   ]
  },
  {
   "cell_type": "code",
   "execution_count": 70,
   "id": "f01ee6a5",
   "metadata": {},
   "outputs": [
    {
     "name": "stdout",
     "output_type": "stream",
     "text": [
      "[0.3113773  0.21754779 0.92389116 0.60158889 0.50301292]\n"
     ]
    }
   ],
   "source": [
    "print(A)"
   ]
  },
  {
   "cell_type": "code",
   "execution_count": 80,
   "id": "a373e59e",
   "metadata": {},
   "outputs": [
    {
     "data": {
      "text/plain": [
       "array([0.6791239 , 0.70088868, 0.84587255, 0.57032577, 0.64215511])"
      ]
     },
     "execution_count": 80,
     "metadata": {},
     "output_type": "execute_result"
    }
   ],
   "source": [
    "A"
   ]
  },
  {
   "cell_type": "code",
   "execution_count": 75,
   "id": "478b3869",
   "metadata": {},
   "outputs": [
    {
     "data": {
      "text/plain": [
       "(array([1., 1., 0., 0., 1., 1., 0., 0., 0., 1.]),\n",
       " array([0.21754779, 0.28818212, 0.35881646, 0.4294508 , 0.50008514,\n",
       "        0.57071947, 0.64135381, 0.71198815, 0.78262248, 0.85325682,\n",
       "        0.92389116]),\n",
       " <BarContainer object of 10 artists>)"
      ]
     },
     "execution_count": 75,
     "metadata": {},
     "output_type": "execute_result"
    },
    {
     "data": {
      "image/png": "[encoded data removed]",
      "text/plain": [
       "<Figure size 432x288 with 1 Axes>"
      ]
     },
     "metadata": {
      "needs_background": "light"
     },
     "output_type": "display_data"
    }
   ],
   "source": [
    "import matplotlib.pyplot as plt\n",
    "\n",
    "plt.hist(A)"
   ]
  },
  {
   "cell_type": "code",
   "execution_count": 1,
   "id": "d24f0ce3",
   "metadata": {},
   "outputs": [
    {
     "ename": "NameError",
     "evalue": "name 'np' is not defined",
     "output_type": "error",
     "traceback": [
      "\u001b[0;31m---------------------------------------------------------------------------\u001b[0m",
      "\u001b[0;31mNameError\u001b[0m                                 Traceback (most recent call last)",
      "\u001b[0;32m<ipython-input-1-0fe779c6868a>\u001b[0m in \u001b[0;36m<module>\u001b[0;34m\u001b[0m\n\u001b[0;32m----> 1\u001b[0;31m \u001b[0mD\u001b[0m \u001b[0;34m=\u001b[0m \u001b[0mnp\u001b[0m\u001b[0;34m.\u001b[0m\u001b[0marange\u001b[0m\u001b[0;34m(\u001b[0m\u001b[0;36m100\u001b[0m\u001b[0;34m)\u001b[0m\u001b[0;34m.\u001b[0m\u001b[0mreshape\u001b[0m\u001b[0;34m(\u001b[0m\u001b[0;36m4\u001b[0m\u001b[0;34m,\u001b[0m\u001b[0;36m25\u001b[0m\u001b[0;34m)\u001b[0m\u001b[0;34m\u001b[0m\u001b[0;34m\u001b[0m\u001b[0m\n\u001b[0m",
      "\u001b[0;31mNameError\u001b[0m: name 'np' is not defined"
     ]
    }
   ],
   "source": [
    "D = np.arange(100).reshape(4,25)"
   ]
  },
  {
   "cell_type": "code",
   "execution_count": 82,
   "id": "a84d3681",
   "metadata": {},
   "outputs": [
    {
     "data": {
      "text/plain": [
       "(4, 25)"
      ]
     },
     "execution_count": 82,
     "metadata": {},
     "output_type": "execute_result"
    }
   ],
   "source": [
    "D.shape"
   ]
  },
  {
   "cell_type": "code",
   "execution_count": 88,
   "id": "97e46007",
   "metadata": {},
   "outputs": [
    {
     "data": {
      "text/plain": [
       "array([[0, 0, 0],\n",
       "       [0, 0, 0]], dtype=int32)"
      ]
     },
     "execution_count": 88,
     "metadata": {},
     "output_type": "execute_result"
    }
   ],
   "source": [
    "np.zeros((2,3),dtype='i')"
   ]
  },
  {
   "cell_type": "markdown",
   "id": "adff5899",
   "metadata": {},
   "source": [
    "# Slicing\n"
   ]
  },
  {
   "cell_type": "code",
   "execution_count": 3,
   "id": "654c8aab",
   "metadata": {},
   "outputs": [],
   "source": [
    "a = np.arange(100)"
   ]
  },
  {
   "cell_type": "code",
   "execution_count": 4,
   "id": "bd320e5a",
   "metadata": {},
   "outputs": [
    {
     "data": {
      "text/plain": [
       "array([ 0,  1,  2,  3,  4,  5,  6,  7,  8,  9, 10, 11, 12, 13, 14, 15, 16,\n",
       "       17, 18, 19, 20, 21, 22, 23, 24, 25, 26, 27, 28, 29, 30, 31, 32, 33,\n",
       "       34, 35, 36, 37, 38, 39, 40, 41, 42, 43, 44, 45, 46, 47, 48, 49, 50,\n",
       "       51, 52, 53, 54, 55, 56, 57, 58, 59, 60, 61, 62, 63, 64, 65, 66, 67,\n",
       "       68, 69, 70, 71, 72, 73, 74, 75, 76, 77, 78, 79, 80, 81, 82, 83, 84,\n",
       "       85, 86, 87, 88, 89, 90, 91, 92, 93, 94, 95, 96, 97, 98, 99])"
      ]
     },
     "execution_count": 4,
     "metadata": {},
     "output_type": "execute_result"
    }
   ],
   "source": [
    "a"
   ]
  },
  {
   "cell_type": "code",
   "execution_count": 5,
   "id": "d7895312",
   "metadata": {},
   "outputs": [],
   "source": [
    "b = a[3:10]"
   ]
  },
  {
   "cell_type": "code",
   "execution_count": 6,
   "id": "067ca76d",
   "metadata": {},
   "outputs": [
    {
     "data": {
      "text/plain": [
       "array([3, 4, 5, 6, 7, 8, 9])"
      ]
     },
     "execution_count": 6,
     "metadata": {},
     "output_type": "execute_result"
    }
   ],
   "source": [
    "b"
   ]
  },
  {
   "cell_type": "code",
   "execution_count": 7,
   "id": "f21f0384",
   "metadata": {},
   "outputs": [],
   "source": [
    "b[0] = -100"
   ]
  },
  {
   "cell_type": "code",
   "execution_count": 8,
   "id": "120f00c9",
   "metadata": {},
   "outputs": [
    {
     "data": {
      "text/plain": [
       "array([   0,    1,    2, -100,    4,    5,    6,    7,    8,    9,   10,\n",
       "         11,   12,   13,   14,   15,   16,   17,   18,   19,   20,   21,\n",
       "         22,   23,   24,   25,   26,   27,   28,   29,   30,   31,   32,\n",
       "         33,   34,   35,   36,   37,   38,   39,   40,   41,   42,   43,\n",
       "         44,   45,   46,   47,   48,   49,   50,   51,   52,   53,   54,\n",
       "         55,   56,   57,   58,   59,   60,   61,   62,   63,   64,   65,\n",
       "         66,   67,   68,   69,   70,   71,   72,   73,   74,   75,   76,\n",
       "         77,   78,   79,   80,   81,   82,   83,   84,   85,   86,   87,\n",
       "         88,   89,   90,   91,   92,   93,   94,   95,   96,   97,   98,\n",
       "         99])"
      ]
     },
     "execution_count": 8,
     "metadata": {},
     "output_type": "execute_result"
    }
   ],
   "source": [
    "a"
   ]
  },
  {
   "cell_type": "code",
   "execution_count": 9,
   "id": "7a6865db",
   "metadata": {},
   "outputs": [
    {
     "data": {
      "text/plain": [
       "array([-100,    4,    5,    6,    7,    8,    9])"
      ]
     },
     "execution_count": 9,
     "metadata": {},
     "output_type": "execute_result"
    }
   ],
   "source": [
    "b"
   ]
  },
  {
   "cell_type": "code",
   "execution_count": 10,
   "id": "dfba1136",
   "metadata": {},
   "outputs": [],
   "source": [
    "b = a[3:10].copy()"
   ]
  },
  {
   "cell_type": "code",
   "execution_count": 11,
   "id": "6e8596ea",
   "metadata": {},
   "outputs": [
    {
     "data": {
      "text/plain": [
       "array([ 0,  5, 10, 15, 20, 25, 30, 35, 40, 45, 50, 55, 60, 65, 70, 75, 80,\n",
       "       85, 90, 95])"
      ]
     },
     "execution_count": 11,
     "metadata": {},
     "output_type": "execute_result"
    }
   ],
   "source": [
    "a[::5]"
   ]
  },
  {
   "cell_type": "code",
   "execution_count": 13,
   "id": "9cd0afb5",
   "metadata": {
    "scrolled": true
   },
   "outputs": [
    {
     "data": {
      "text/plain": [
       "array([99, 94, 89, 84, 79, 74, 69, 64, 59, 54, 49, 44, 39, 34, 29, 24, 19,\n",
       "       14,  9,  4])"
      ]
     },
     "execution_count": 13,
     "metadata": {},
     "output_type": "execute_result"
    }
   ],
   "source": [
    "a[::-5]"
   ]
  },
  {
   "cell_type": "code",
   "execution_count": 20,
   "id": "01a7214c",
   "metadata": {},
   "outputs": [
    {
     "data": {
      "text/plain": [
       "array([   0,    1,    2, -100,    4,    5,    6,    7,    8,    9,   10,\n",
       "         11,   12,   13,   14,   15,   16,   17,   18,   19,   20,   21,\n",
       "         22,   23,   24,   25,   26,   27,   28,   29,   30,   31,   32,\n",
       "         33,   34,   35,   36,   37,   38,   39,   40,   41,   42,   43,\n",
       "         44,   45,   46,   47,   48,   49,   50,   51,   52,   53,   54,\n",
       "         55,   56,   57,   58,   59,   60,   61,   62,   63,   64,   65,\n",
       "         66,   67,   68,   69,   70,   71,   72,   73,   74,   75,   76,\n",
       "         77,   78,   79,   80,   81,   82,   83,   84,   85,   86,   87,\n",
       "         88,   89,   90,   91,   92,   93,   94,   95,   96,   97,   98,\n",
       "         99])"
      ]
     },
     "execution_count": 20,
     "metadata": {},
     "output_type": "execute_result"
    }
   ],
   "source": [
    "a"
   ]
  },
  {
   "cell_type": "code",
   "execution_count": 21,
   "id": "3b65898d",
   "metadata": {},
   "outputs": [],
   "source": [
    "b = a[::-1]"
   ]
  },
  {
   "cell_type": "code",
   "execution_count": 22,
   "id": "514ed638",
   "metadata": {},
   "outputs": [
    {
     "data": {
      "text/plain": [
       "array([  99,   98,   97,   96,   95,   94,   93,   92,   91,   90,   89,\n",
       "         88,   87,   86,   85,   84,   83,   82,   81,   80,   79,   78,\n",
       "         77,   76,   75,   74,   73,   72,   71,   70,   69,   68,   67,\n",
       "         66,   65,   64,   63,   62,   61,   60,   59,   58,   57,   56,\n",
       "         55,   54,   53,   52,   51,   50,   49,   48,   47,   46,   45,\n",
       "         44,   43,   42,   41,   40,   39,   38,   37,   36,   35,   34,\n",
       "         33,   32,   31,   30,   29,   28,   27,   26,   25,   24,   23,\n",
       "         22,   21,   20,   19,   18,   17,   16,   15,   14,   13,   12,\n",
       "         11,   10,    9,    8,    7,    6,    5,    4, -100,    2,    1,\n",
       "          0])"
      ]
     },
     "execution_count": 22,
     "metadata": {},
     "output_type": "execute_result"
    }
   ],
   "source": [
    "b"
   ]
  },
  {
   "cell_type": "code",
   "execution_count": 23,
   "id": "251f8686",
   "metadata": {},
   "outputs": [],
   "source": [
    "b[2] = 5133"
   ]
  },
  {
   "cell_type": "code",
   "execution_count": 24,
   "id": "7a056611",
   "metadata": {},
   "outputs": [
    {
     "data": {
      "text/plain": [
       "array([  99,   98, 5133,   96,   95,   94,   93,   92,   91,   90,   89,\n",
       "         88,   87,   86,   85,   84,   83,   82,   81,   80,   79,   78,\n",
       "         77,   76,   75,   74,   73,   72,   71,   70,   69,   68,   67,\n",
       "         66,   65,   64,   63,   62,   61,   60,   59,   58,   57,   56,\n",
       "         55,   54,   53,   52,   51,   50,   49,   48,   47,   46,   45,\n",
       "         44,   43,   42,   41,   40,   39,   38,   37,   36,   35,   34,\n",
       "         33,   32,   31,   30,   29,   28,   27,   26,   25,   24,   23,\n",
       "         22,   21,   20,   19,   18,   17,   16,   15,   14,   13,   12,\n",
       "         11,   10,    9,    8,    7,    6,    5,    4, -100,    2,    1,\n",
       "          0])"
      ]
     },
     "execution_count": 24,
     "metadata": {},
     "output_type": "execute_result"
    }
   ],
   "source": [
    "b"
   ]
  },
  {
   "cell_type": "code",
   "execution_count": 25,
   "id": "041c508b",
   "metadata": {},
   "outputs": [
    {
     "data": {
      "text/plain": [
       "array([   0,    1,    2, -100,    4,    5,    6,    7,    8,    9,   10,\n",
       "         11,   12,   13,   14,   15,   16,   17,   18,   19,   20,   21,\n",
       "         22,   23,   24,   25,   26,   27,   28,   29,   30,   31,   32,\n",
       "         33,   34,   35,   36,   37,   38,   39,   40,   41,   42,   43,\n",
       "         44,   45,   46,   47,   48,   49,   50,   51,   52,   53,   54,\n",
       "         55,   56,   57,   58,   59,   60,   61,   62,   63,   64,   65,\n",
       "         66,   67,   68,   69,   70,   71,   72,   73,   74,   75,   76,\n",
       "         77,   78,   79,   80,   81,   82,   83,   84,   85,   86,   87,\n",
       "         88,   89,   90,   91,   92,   93,   94,   95,   96, 5133,   98,\n",
       "         99])"
      ]
     },
     "execution_count": 25,
     "metadata": {},
     "output_type": "execute_result"
    }
   ],
   "source": [
    "a"
   ]
  },
  {
   "cell_type": "code",
   "execution_count": 31,
   "id": "9c848858",
   "metadata": {},
   "outputs": [
    {
     "data": {
      "text/plain": [
       "array([   0,    1,    2, -100,    4,    5,    6,    7,    8,    9,   10,\n",
       "         11,   12,   13,   14,   15,   16,   17,   18,   19,   20,   21,\n",
       "         22,   23,   24,   25,   26,   27,   28,   29,   30,   31,   32,\n",
       "         33,   34,   35,   36,   37,   38,   39,   40,   41,   42,   43,\n",
       "         44,   45,   46,   47,   48,   49,   50,   51,   52,   53,   54,\n",
       "         55,   56,   57,   58,   59,   60,   61,   62,   63,   64,   65,\n",
       "         66,   67,   68,   69,   70,   71,   72,   73,   74,   75,   76,\n",
       "         77,   78,   79,   80,   81,   82,   83,   84,   85,   86,   87,\n",
       "         88,   89,   90,   91,   92,   93,   94,   95,   96, 5133,   98,\n",
       "         99])"
      ]
     },
     "execution_count": 31,
     "metadata": {},
     "output_type": "execute_result"
    }
   ],
   "source": [
    "a"
   ]
  },
  {
   "cell_type": "code",
   "execution_count": 33,
   "id": "b4336b13",
   "metadata": {},
   "outputs": [],
   "source": [
    "a = np.round(10*np.random.rand(5,4))"
   ]
  },
  {
   "cell_type": "code",
   "execution_count": 34,
   "id": "d95f5042",
   "metadata": {},
   "outputs": [
    {
     "data": {
      "text/plain": [
       "array([[ 2.,  5.,  8.,  5.],\n",
       "       [ 6.,  3.,  4.,  7.],\n",
       "       [10.,  2.,  4.,  8.],\n",
       "       [ 0.,  9.,  6.,  3.],\n",
       "       [ 3.,  8.,  0.,  9.]])"
      ]
     },
     "execution_count": 34,
     "metadata": {},
     "output_type": "execute_result"
    }
   ],
   "source": [
    "a"
   ]
  },
  {
   "cell_type": "code",
   "execution_count": 38,
   "id": "d4f62c5d",
   "metadata": {},
   "outputs": [
    {
     "data": {
      "text/plain": [
       "array([[0.14558878],\n",
       "       [0.35237097],\n",
       "       [0.20392449]])"
      ]
     },
     "execution_count": 38,
     "metadata": {},
     "output_type": "execute_result"
    }
   ],
   "source": [
    "np.random.rand(3,1)"
   ]
  },
  {
   "cell_type": "code",
   "execution_count": 39,
   "id": "455c70e4",
   "metadata": {},
   "outputs": [
    {
     "data": {
      "text/plain": [
       "4.0"
      ]
     },
     "execution_count": 39,
     "metadata": {},
     "output_type": "execute_result"
    }
   ],
   "source": [
    "a[1,2]"
   ]
  },
  {
   "cell_type": "code",
   "execution_count": 40,
   "id": "c0da0594",
   "metadata": {},
   "outputs": [
    {
     "data": {
      "text/plain": [
       "2"
      ]
     },
     "execution_count": 40,
     "metadata": {},
     "output_type": "execute_result"
    }
   ],
   "source": [
    "a.ndim"
   ]
  },
  {
   "cell_type": "code",
   "execution_count": 41,
   "id": "5cbf2304",
   "metadata": {},
   "outputs": [
    {
     "data": {
      "text/plain": [
       "(5, 4)"
      ]
     },
     "execution_count": 41,
     "metadata": {},
     "output_type": "execute_result"
    }
   ],
   "source": [
    "a.shape"
   ]
  },
  {
   "cell_type": "code",
   "execution_count": 42,
   "id": "baa1339b",
   "metadata": {},
   "outputs": [
    {
     "data": {
      "text/plain": [
       "array([6., 3., 4., 7.])"
      ]
     },
     "execution_count": 42,
     "metadata": {},
     "output_type": "execute_result"
    }
   ],
   "source": [
    "a[1]"
   ]
  },
  {
   "cell_type": "code",
   "execution_count": 43,
   "id": "d39f1efb",
   "metadata": {},
   "outputs": [
    {
     "data": {
      "text/plain": [
       "array([6., 3., 4., 7.])"
      ]
     },
     "execution_count": 43,
     "metadata": {},
     "output_type": "execute_result"
    }
   ],
   "source": [
    "a[1,:]"
   ]
  },
  {
   "cell_type": "code",
   "execution_count": 44,
   "id": "b848efab",
   "metadata": {},
   "outputs": [
    {
     "data": {
      "text/plain": [
       "array([[4., 7.],\n",
       "       [4., 8.]])"
      ]
     },
     "execution_count": 44,
     "metadata": {},
     "output_type": "execute_result"
    }
   ],
   "source": [
    "a[1:3,2:4]"
   ]
  },
  {
   "cell_type": "code",
   "execution_count": 45,
   "id": "415eb70e",
   "metadata": {},
   "outputs": [
    {
     "data": {
      "text/plain": [
       "array([[ 2.,  6., 10.,  0.,  3.],\n",
       "       [ 5.,  3.,  2.,  9.,  8.],\n",
       "       [ 8.,  4.,  4.,  6.,  0.],\n",
       "       [ 5.,  7.,  8.,  3.,  9.]])"
      ]
     },
     "execution_count": 45,
     "metadata": {},
     "output_type": "execute_result"
    }
   ],
   "source": [
    "a.T"
   ]
  },
  {
   "cell_type": "code",
   "execution_count": 46,
   "id": "bc21c9dd",
   "metadata": {},
   "outputs": [
    {
     "data": {
      "text/plain": [
       "array([[ 2.,  5.,  8.,  5.],\n",
       "       [ 6.,  3.,  4.,  7.],\n",
       "       [10.,  2.,  4.,  8.],\n",
       "       [ 0.,  9.,  6.,  3.],\n",
       "       [ 3.,  8.,  0.,  9.]])"
      ]
     },
     "execution_count": 46,
     "metadata": {},
     "output_type": "execute_result"
    }
   ],
   "source": [
    "a"
   ]
  },
  {
   "cell_type": "code",
   "execution_count": 47,
   "id": "044880bc",
   "metadata": {},
   "outputs": [],
   "source": [
    "a.sort(axis=0)"
   ]
  },
  {
   "cell_type": "code",
   "execution_count": 48,
   "id": "8a2947e3",
   "metadata": {},
   "outputs": [
    {
     "data": {
      "text/plain": [
       "array([[ 0.,  2.,  0.,  3.],\n",
       "       [ 2.,  3.,  4.,  5.],\n",
       "       [ 3.,  5.,  4.,  7.],\n",
       "       [ 6.,  8.,  6.,  8.],\n",
       "       [10.,  9.,  8.,  9.]])"
      ]
     },
     "execution_count": 48,
     "metadata": {},
     "output_type": "execute_result"
    }
   ],
   "source": [
    "a"
   ]
  },
  {
   "cell_type": "code",
   "execution_count": 49,
   "id": "d96a336e",
   "metadata": {},
   "outputs": [
    {
     "data": {
      "text/plain": [
       "array([[ 0.,  2.,  0.,  3.],\n",
       "       [ 2.,  3.,  4.,  5.],\n",
       "       [ 3.,  5.,  4.,  7.],\n",
       "       [ 6.,  8.,  6.,  8.],\n",
       "       [10.,  9.,  8.,  9.]])"
      ]
     },
     "execution_count": 49,
     "metadata": {},
     "output_type": "execute_result"
    }
   ],
   "source": [
    "a\n"
   ]
  },
  {
   "cell_type": "code",
   "execution_count": 50,
   "id": "8ab0acd5",
   "metadata": {},
   "outputs": [
    {
     "data": {
      "text/plain": [
       "array([[10.,  9.,  8.,  9.],\n",
       "       [ 6.,  8.,  6.,  8.],\n",
       "       [ 3.,  5.,  4.,  7.],\n",
       "       [ 2.,  3.,  4.,  5.],\n",
       "       [ 0.,  2.,  0.,  3.]])"
      ]
     },
     "execution_count": 50,
     "metadata": {},
     "output_type": "execute_result"
    }
   ],
   "source": [
    "a[::-1]"
   ]
  },
  {
   "cell_type": "code",
   "execution_count": 51,
   "id": "683da573",
   "metadata": {},
   "outputs": [],
   "source": [
    "a = np.random.rand(6)"
   ]
  },
  {
   "cell_type": "code",
   "execution_count": 52,
   "id": "5727e760",
   "metadata": {},
   "outputs": [
    {
     "data": {
      "text/plain": [
       "array([0.02791015, 0.04645415, 0.21047992, 0.14581128, 0.19726191,\n",
       "       0.23103684])"
      ]
     },
     "execution_count": 52,
     "metadata": {},
     "output_type": "execute_result"
    }
   ],
   "source": [
    "a"
   ]
  },
  {
   "cell_type": "code",
   "execution_count": 54,
   "id": "2d357313",
   "metadata": {},
   "outputs": [
    {
     "data": {
      "text/plain": [
       "array([0.04645415, 0.19726191, 0.23103684])"
      ]
     },
     "execution_count": 54,
     "metadata": {},
     "output_type": "execute_result"
    }
   ],
   "source": [
    "a[[1,4,5]]"
   ]
  },
  {
   "cell_type": "code",
   "execution_count": 59,
   "id": "91dc2aee",
   "metadata": {},
   "outputs": [
    {
     "data": {
      "text/plain": [
       "array([0.04645415, 0.02791015])"
      ]
     },
     "execution_count": 59,
     "metadata": {},
     "output_type": "execute_result"
    }
   ],
   "source": [
    "a[[True,False*3]]"
   ]
  },
  {
   "cell_type": "code",
   "execution_count": 60,
   "id": "79da9b23",
   "metadata": {},
   "outputs": [
    {
     "data": {
      "text/plain": [
       "array([0.02791015, 0.04645415, 0.21047992, 0.14581128, 0.19726191,\n",
       "       0.23103684])"
      ]
     },
     "execution_count": 60,
     "metadata": {},
     "output_type": "execute_result"
    }
   ],
   "source": [
    "a"
   ]
  },
  {
   "cell_type": "code",
   "execution_count": 66,
   "id": "dd3fb222",
   "metadata": {},
   "outputs": [
    {
     "ename": "SyntaxError",
     "evalue": "invalid syntax (<ipython-input-66-f68327603667>, line 1)",
     "output_type": "error",
     "traceback": [
      "\u001b[0;36m  File \u001b[0;32m\"<ipython-input-66-f68327603667>\"\u001b[0;36m, line \u001b[0;32m1\u001b[0m\n\u001b[0;31m    b = a[a=0.02791015]\u001b[0m\n\u001b[0m           ^\u001b[0m\n\u001b[0;31mSyntaxError\u001b[0m\u001b[0;31m:\u001b[0m invalid syntax\n"
     ]
    }
   ],
   "source": [
    "b = a[a=0.02791015]"
   ]
  },
  {
   "cell_type": "code",
   "execution_count": 67,
   "id": "08ed2ec7",
   "metadata": {},
   "outputs": [],
   "source": [
    "a = np.arange(50)"
   ]
  },
  {
   "cell_type": "code",
   "execution_count": 68,
   "id": "4652423c",
   "metadata": {},
   "outputs": [
    {
     "data": {
      "text/plain": [
       "array([ 0,  1,  2,  3,  4,  5,  6,  7,  8,  9, 10, 11, 12, 13, 14, 15, 16,\n",
       "       17, 18, 19, 20, 21, 22, 23, 24, 25, 26, 27, 28, 29, 30, 31, 32, 33,\n",
       "       34, 35, 36, 37, 38, 39, 40, 41, 42, 43, 44, 45, 46, 47, 48, 49])"
      ]
     },
     "execution_count": 68,
     "metadata": {},
     "output_type": "execute_result"
    }
   ],
   "source": [
    "a"
   ]
  },
  {
   "cell_type": "code",
   "execution_count": 69,
   "id": "2f0f58a5",
   "metadata": {},
   "outputs": [],
   "source": [
    "b = a[[3,5,6]]"
   ]
  },
  {
   "cell_type": "code",
   "execution_count": 70,
   "id": "3a47522b",
   "metadata": {},
   "outputs": [
    {
     "data": {
      "text/plain": [
       "array([3, 5, 6])"
      ]
     },
     "execution_count": 70,
     "metadata": {},
     "output_type": "execute_result"
    }
   ],
   "source": [
    "b"
   ]
  },
  {
   "cell_type": "code",
   "execution_count": 71,
   "id": "90bcf91d",
   "metadata": {},
   "outputs": [],
   "source": [
    "b = a[a<40]"
   ]
  },
  {
   "cell_type": "code",
   "execution_count": 72,
   "id": "11052875",
   "metadata": {},
   "outputs": [
    {
     "data": {
      "text/plain": [
       "array([ 0,  1,  2,  3,  4,  5,  6,  7,  8,  9, 10, 11, 12, 13, 14, 15, 16,\n",
       "       17, 18, 19, 20, 21, 22, 23, 24, 25, 26, 27, 28, 29, 30, 31, 32, 33,\n",
       "       34, 35, 36, 37, 38, 39])"
      ]
     },
     "execution_count": 72,
     "metadata": {},
     "output_type": "execute_result"
    }
   ],
   "source": [
    "b"
   ]
  },
  {
   "cell_type": "code",
   "execution_count": 79,
   "id": "28379093",
   "metadata": {},
   "outputs": [],
   "source": [
    "b = a[(a<40) | (a>30)]"
   ]
  },
  {
   "cell_type": "code",
   "execution_count": 80,
   "id": "8f1fd389",
   "metadata": {},
   "outputs": [
    {
     "data": {
      "text/plain": [
       "array([ 0,  1,  2,  3,  4,  5,  6,  7,  8,  9, 10, 11, 12, 13, 14, 15, 16,\n",
       "       17, 18, 19, 20, 21, 22, 23, 24, 25, 26, 27, 28, 29, 30, 31, 32, 33,\n",
       "       34, 35, 36, 37, 38, 39, 40, 41, 42, 43, 44, 45, 46, 47, 48, 49])"
      ]
     },
     "execution_count": 80,
     "metadata": {},
     "output_type": "execute_result"
    }
   ],
   "source": [
    "b"
   ]
  },
  {
   "cell_type": "markdown",
   "id": "405dcaaa",
   "metadata": {},
   "source": [
    "# Broadcasting\n"
   ]
  },
  {
   "cell_type": "code",
   "execution_count": 3,
   "id": "713c6efd",
   "metadata": {},
   "outputs": [],
   "source": [
    "a = np.array([[2,3],[5,9]])"
   ]
  },
  {
   "cell_type": "code",
   "execution_count": 4,
   "id": "b0a2ce42",
   "metadata": {},
   "outputs": [
    {
     "data": {
      "text/plain": [
       "array([[2, 3],\n",
       "       [5, 9]])"
      ]
     },
     "execution_count": 4,
     "metadata": {},
     "output_type": "execute_result"
    }
   ],
   "source": [
    "a"
   ]
  },
  {
   "cell_type": "code",
   "execution_count": 5,
   "id": "ffd313d1",
   "metadata": {},
   "outputs": [],
   "source": [
    "a = a + np.array([[1],[3]])"
   ]
  },
  {
   "cell_type": "code",
   "execution_count": 6,
   "id": "5cbd64db",
   "metadata": {},
   "outputs": [
    {
     "data": {
      "text/plain": [
       "array([[ 3,  4],\n",
       "       [ 8, 12]])"
      ]
     },
     "execution_count": 6,
     "metadata": {},
     "output_type": "execute_result"
    }
   ],
   "source": [
    "a"
   ]
  },
  {
   "cell_type": "code",
   "execution_count": 11,
   "id": "06cd4e2e",
   "metadata": {},
   "outputs": [],
   "source": [
    "b = np.round(10*np.random.rand(2,2))"
   ]
  },
  {
   "cell_type": "code",
   "execution_count": 12,
   "id": "3813c6f3",
   "metadata": {},
   "outputs": [
    {
     "data": {
      "text/plain": [
       "array([[6., 2.],\n",
       "       [9., 5.]])"
      ]
     },
     "execution_count": 12,
     "metadata": {},
     "output_type": "execute_result"
    }
   ],
   "source": [
    "b"
   ]
  },
  {
   "cell_type": "code",
   "execution_count": 14,
   "id": "b339d236",
   "metadata": {},
   "outputs": [],
   "source": [
    "c = np.hstack((a,b))"
   ]
  },
  {
   "cell_type": "code",
   "execution_count": 15,
   "id": "76a4eb57",
   "metadata": {},
   "outputs": [
    {
     "data": {
      "text/plain": [
       "array([[ 3.,  4.,  6.,  2.],\n",
       "       [ 8., 12.,  9.,  5.]])"
      ]
     },
     "execution_count": 15,
     "metadata": {},
     "output_type": "execute_result"
    }
   ],
   "source": [
    "c"
   ]
  },
  {
   "cell_type": "code",
   "execution_count": 16,
   "id": "bb12a81b",
   "metadata": {},
   "outputs": [],
   "source": [
    "c.sort()"
   ]
  },
  {
   "cell_type": "code",
   "execution_count": 17,
   "id": "e9476df9",
   "metadata": {},
   "outputs": [
    {
     "data": {
      "text/plain": [
       "array([[ 2.,  3.,  4.,  6.],\n",
       "       [ 5.,  8.,  9., 12.]])"
      ]
     },
     "execution_count": 17,
     "metadata": {},
     "output_type": "execute_result"
    }
   ],
   "source": [
    "c"
   ]
  },
  {
   "cell_type": "code",
   "execution_count": 18,
   "id": "bc8ec337",
   "metadata": {},
   "outputs": [
    {
     "data": {
      "text/plain": [
       "array([[ 5.,  8.,  9., 12.],\n",
       "       [ 2.,  3.,  4.,  6.]])"
      ]
     },
     "execution_count": 18,
     "metadata": {},
     "output_type": "execute_result"
    }
   ],
   "source": [
    "c[::-1]"
   ]
  },
  {
   "cell_type": "code",
   "execution_count": 19,
   "id": "f93cb962",
   "metadata": {},
   "outputs": [
    {
     "data": {
      "text/plain": [
       "array([[ 2.,  3.,  4.,  6.],\n",
       "       [ 5.,  8.,  9., 12.]])"
      ]
     },
     "execution_count": 19,
     "metadata": {},
     "output_type": "execute_result"
    }
   ],
   "source": [
    "c"
   ]
  },
  {
   "cell_type": "code",
   "execution_count": null,
   "id": "60dbf703",
   "metadata": {},
   "outputs": [],
   "source": []
  }
 ],
 "metadata": {
  "kernelspec": {
   "display_name": "Python 3",
   "language": "python",
   "name": "python3"
  },
  "language_info": {
   "codemirror_mode": {
    "name": "ipython",
    "version": 3
   },
   "file_extension": ".py",
   "mimetype": "text/x-python",
   "name": "python",
   "nbconvert_exporter": "python",
   "pygments_lexer": "ipython3",
   "version": "3.8.8"
  }
 },
 "nbformat": 4,
 "nbformat_minor": 5
}
