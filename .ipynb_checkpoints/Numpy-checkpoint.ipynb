{
 "cells": [
  {
   "cell_type": "markdown",
   "id": "f634c8e7",
   "metadata": {},
   "source": [
    "# Numpy"
   ]
  },
  {
   "cell_type": "code",
   "execution_count": 1,
   "id": "6e74c038",
   "metadata": {},
   "outputs": [],
   "source": [
    "#numpy is very fast"
   ]
  },
  {
   "cell_type": "code",
   "execution_count": 2,
   "id": "107e7264",
   "metadata": {},
   "outputs": [],
   "source": [
    "#efficient with respect to memory"
   ]
  },
  {
   "cell_type": "code",
   "execution_count": 3,
   "id": "9e4ce051",
   "metadata": {},
   "outputs": [],
   "source": [
    "#no need to save the type of data"
   ]
  },
  {
   "cell_type": "code",
   "execution_count": 43,
   "id": "9d23ad62",
   "metadata": {},
   "outputs": [
    {
     "name": "stdout",
     "output_type": "stream",
     "text": [
      "[1 2 3 4 5 6]\n",
      "[5 6 7 8]\n",
      "(6,)\n"
     ]
    }
   ],
   "source": [
    "import numpy as np\n",
    "\n",
    "a = np.array([1,2,3,4,5,6],dtype='i')\n",
    "b = np.array((5,6,7,8))\n",
    "\n",
    "print(a)\n",
    "print(b)\n",
    "print(a.shape)"
   ]
  },
  {
   "cell_type": "code",
   "execution_count": 6,
   "id": "90ba7165",
   "metadata": {},
   "outputs": [
    {
     "data": {
      "text/plain": [
       "numpy.ndarray"
      ]
     },
     "execution_count": 6,
     "metadata": {},
     "output_type": "execute_result"
    }
   ],
   "source": [
    "type(a)"
   ]
  },
  {
   "cell_type": "code",
   "execution_count": 36,
   "id": "0811ea38",
   "metadata": {},
   "outputs": [],
   "source": [
    "#nd array -> n dimensional array\n",
    "#dtype -> data type"
   ]
  },
  {
   "cell_type": "code",
   "execution_count": 10,
   "id": "d0a38a82",
   "metadata": {},
   "outputs": [
    {
     "data": {
      "text/plain": [
       "dtype('int32')"
      ]
     },
     "execution_count": 10,
     "metadata": {},
     "output_type": "execute_result"
    }
   ],
   "source": [
    "a.dtype\n"
   ]
  },
  {
   "cell_type": "markdown",
   "id": "6a07abd8",
   "metadata": {},
   "source": [
    "# Dimensions"
   ]
  },
  {
   "cell_type": "code",
   "execution_count": 44,
   "id": "42953368",
   "metadata": {},
   "outputs": [],
   "source": [
    "a = np.array([[1,3,4]])"
   ]
  },
  {
   "cell_type": "code",
   "execution_count": 45,
   "id": "da125607",
   "metadata": {},
   "outputs": [
    {
     "name": "stdout",
     "output_type": "stream",
     "text": [
      "2\n",
      "3\n",
      "(1, 3)\n"
     ]
    }
   ],
   "source": [
    "print(a.ndim)\n",
    "print(a[0,1])\n",
    "print(a.shape)"
   ]
  },
  {
   "cell_type": "code",
   "execution_count": 26,
   "id": "d7814f41",
   "metadata": {},
   "outputs": [],
   "source": [
    "b = np.array([[[1,2,3,5],[4,5,6,7]],[[1,2,3,5],[4,5,6,9]]])\n"
   ]
  },
  {
   "cell_type": "code",
   "execution_count": 42,
   "id": "e8896c48",
   "metadata": {},
   "outputs": [
    {
     "name": "stdout",
     "output_type": "stream",
     "text": [
      "3\n",
      "(2, 2, 4)\n"
     ]
    }
   ],
   "source": [
    "print(b.ndim)\n",
    "print(b.shape)"
   ]
  },
  {
   "cell_type": "code",
   "execution_count": 33,
   "id": "095dc909",
   "metadata": {},
   "outputs": [],
   "source": [
    "c  = np.array([[[-1,-2,-3],[-4,-5,-6],[-7,-8,-9],[[7,8,9],[1,2,4],[4,5,6]]])"
   ]
  },
  {
   "cell_type": "code",
   "execution_count": 34,
   "id": "b14e25ce",
   "metadata": {},
   "outputs": [
    {
     "data": {
      "text/plain": [
       "3"
      ]
     },
     "execution_count": 34,
     "metadata": {},
     "output_type": "execute_result"
    }
   ],
   "source": [
    "c.ndim"
   ]
  },
  {
   "cell_type": "code",
   "execution_count": 35,
   "id": "4ec2fa22",
   "metadata": {},
   "outputs": [
    {
     "data": {
      "text/plain": [
       "8"
      ]
     },
     "execution_count": 35,
     "metadata": {},
     "output_type": "execute_result"
    }
   ],
   "source": [
    "c[1,0,1]"
   ]
  },
  {
   "cell_type": "code",
   "execution_count": 37,
   "id": "8c59fada",
   "metadata": {},
   "outputs": [],
   "source": [
    "# ndim -> get the number of dimensions"
   ]
  },
  {
   "cell_type": "code",
   "execution_count": 38,
   "id": "7dde087b",
   "metadata": {},
   "outputs": [],
   "source": [
    "#shape"
   ]
  },
  {
   "cell_type": "code",
   "execution_count": 39,
   "id": "ec49e5f7",
   "metadata": {},
   "outputs": [
    {
     "name": "stdout",
     "output_type": "stream",
     "text": [
      "[[[-1 -2 -3]\n",
      "  [-4 -5 -6]\n",
      "  [-7 -8 -9]]\n",
      "\n",
      " [[ 7  8  9]\n",
      "  [ 1  2  4]\n",
      "  [ 4  5  6]]]\n"
     ]
    }
   ],
   "source": [
    "print(c)"
   ]
  },
  {
   "cell_type": "code",
   "execution_count": 40,
   "id": "32684de9",
   "metadata": {},
   "outputs": [
    {
     "data": {
      "text/plain": [
       "(2, 3, 3)"
      ]
     },
     "execution_count": 40,
     "metadata": {},
     "output_type": "execute_result"
    }
   ],
   "source": [
    "c.shape"
   ]
  },
  {
   "cell_type": "code",
   "execution_count": 46,
   "id": "47fe88b4",
   "metadata": {},
   "outputs": [],
   "source": [
    "B = np.array(4)"
   ]
  },
  {
   "cell_type": "code",
   "execution_count": 47,
   "id": "27540893",
   "metadata": {},
   "outputs": [
    {
     "data": {
      "text/plain": [
       "0"
      ]
     },
     "execution_count": 47,
     "metadata": {},
     "output_type": "execute_result"
    }
   ],
   "source": [
    "B.ndim"
   ]
  },
  {
   "cell_type": "code",
   "execution_count": 48,
   "id": "44940efb",
   "metadata": {},
   "outputs": [],
   "source": [
    "#concat multiple 0 d array to create 1 D array"
   ]
  },
  {
   "cell_type": "code",
   "execution_count": 49,
   "id": "c5c8dc73",
   "metadata": {},
   "outputs": [],
   "source": [
    "C = np.array(5)"
   ]
  },
  {
   "cell_type": "code",
   "execution_count": 50,
   "id": "8057762a",
   "metadata": {},
   "outputs": [],
   "source": [
    "D = B + C"
   ]
  },
  {
   "cell_type": "code",
   "execution_count": 51,
   "id": "845b91f1",
   "metadata": {},
   "outputs": [
    {
     "data": {
      "text/plain": [
       "9"
      ]
     },
     "execution_count": 51,
     "metadata": {},
     "output_type": "execute_result"
    }
   ],
   "source": [
    "D"
   ]
  },
  {
   "cell_type": "code",
   "execution_count": 52,
   "id": "4d2d1b80",
   "metadata": {},
   "outputs": [
    {
     "data": {
      "text/plain": [
       "0"
      ]
     },
     "execution_count": 52,
     "metadata": {},
     "output_type": "execute_result"
    }
   ],
   "source": [
    "D.ndim"
   ]
  },
  {
   "cell_type": "code",
   "execution_count": 53,
   "id": "66c2be07",
   "metadata": {},
   "outputs": [
    {
     "data": {
      "text/plain": [
       "18"
      ]
     },
     "execution_count": 53,
     "metadata": {},
     "output_type": "execute_result"
    }
   ],
   "source": [
    "c.size"
   ]
  },
  {
   "cell_type": "code",
   "execution_count": 54,
   "id": "ec521226",
   "metadata": {},
   "outputs": [
    {
     "data": {
      "text/plain": [
       "144"
      ]
     },
     "execution_count": 54,
     "metadata": {},
     "output_type": "execute_result"
    }
   ],
   "source": [
    "c.nbytes"
   ]
  },
  {
   "cell_type": "markdown",
   "id": "f2642c24",
   "metadata": {},
   "source": [
    "# Arange, Random and Reshape"
   ]
  },
  {
   "cell_type": "code",
   "execution_count": 55,
   "id": "b7ebe401",
   "metadata": {},
   "outputs": [],
   "source": [
    "a = np.arange(5)"
   ]
  },
  {
   "cell_type": "code",
   "execution_count": 56,
   "id": "83c9ca99",
   "metadata": {},
   "outputs": [
    {
     "data": {
      "text/plain": [
       "array([0, 1, 2, 3, 4])"
      ]
     },
     "execution_count": 56,
     "metadata": {},
     "output_type": "execute_result"
    }
   ],
   "source": [
    "a"
   ]
  },
  {
   "cell_type": "code",
   "execution_count": 59,
   "id": "29947fdb",
   "metadata": {},
   "outputs": [],
   "source": [
    "b = np.arange(20,29,4)"
   ]
  },
  {
   "cell_type": "code",
   "execution_count": 61,
   "id": "9c1560ec",
   "metadata": {},
   "outputs": [
    {
     "data": {
      "text/plain": [
       "array([20, 24, 28])"
      ]
     },
     "execution_count": 61,
     "metadata": {},
     "output_type": "execute_result"
    }
   ],
   "source": [
    "b"
   ]
  },
  {
   "cell_type": "code",
   "execution_count": 62,
   "id": "7a03c217",
   "metadata": {},
   "outputs": [],
   "source": [
    "A = np.random.permutation(np.arange(10))"
   ]
  },
  {
   "cell_type": "code",
   "execution_count": 64,
   "id": "04f307f3",
   "metadata": {},
   "outputs": [
    {
     "name": "stdout",
     "output_type": "stream",
     "text": [
      "[5 4 7 3 9 6 8 2 1 0]\n"
     ]
    }
   ],
   "source": [
    "print(A)"
   ]
  },
  {
   "cell_type": "code",
   "execution_count": 68,
   "id": "ee00e293",
   "metadata": {},
   "outputs": [
    {
     "name": "stdout",
     "output_type": "stream",
     "text": [
      "32\n"
     ]
    }
   ],
   "source": [
    "v = np.random.randint(20,40)\n",
    "print(v)"
   ]
  },
  {
   "cell_type": "code",
   "execution_count": 79,
   "id": "7f0015dc",
   "metadata": {},
   "outputs": [],
   "source": [
    "A = np.random.rand(5)"
   ]
  },
  {
   "cell_type": "code",
   "execution_count": 70,
   "id": "f01ee6a5",
   "metadata": {},
   "outputs": [
    {
     "name": "stdout",
     "output_type": "stream",
     "text": [
      "[0.3113773  0.21754779 0.92389116 0.60158889 0.50301292]\n"
     ]
    }
   ],
   "source": [
    "print(A)"
   ]
  },
  {
   "cell_type": "code",
   "execution_count": 80,
   "id": "a373e59e",
   "metadata": {},
   "outputs": [
    {
     "data": {
      "text/plain": [
       "array([0.6791239 , 0.70088868, 0.84587255, 0.57032577, 0.64215511])"
      ]
     },
     "execution_count": 80,
     "metadata": {},
     "output_type": "execute_result"
    }
   ],
   "source": [
    "A"
   ]
  },
  {
   "cell_type": "code",
   "execution_count": 75,
   "id": "478b3869",
   "metadata": {},
   "outputs": [
    {
     "data": {
      "text/plain": [
       "(array([1., 1., 0., 0., 1., 1., 0., 0., 0., 1.]),\n",
       " array([0.21754779, 0.28818212, 0.35881646, 0.4294508 , 0.50008514,\n",
       "        0.57071947, 0.64135381, 0.71198815, 0.78262248, 0.85325682,\n",
       "        0.92389116]),\n",
       " <BarContainer object of 10 artists>)"
      ]
     },
     "execution_count": 75,
     "metadata": {},
     "output_type": "execute_result"
    },
    {
     "data": {
      "image/png": "[encoded data removed]",
      "text/plain": [
       "<Figure size 432x288 with 1 Axes>"
      ]
     },
     "metadata": {
      "needs_background": "light"
     },
     "output_type": "display_data"
    }
   ],
   "source": [
    "import matplotlib.pyplot as plt\n",
    "\n",
    "plt.hist(A)"
   ]
  },
  {
   "cell_type": "code",
   "execution_count": 81,
   "id": "d24f0ce3",
   "metadata": {},
   "outputs": [],
   "source": [
    "D = np.arange(100).reshape(4,25)"
   ]
  },
  {
   "cell_type": "code",
   "execution_count": 82,
   "id": "a84d3681",
   "metadata": {},
   "outputs": [
    {
     "data": {
      "text/plain": [
       "(4, 25)"
      ]
     },
     "execution_count": 82,
     "metadata": {},
     "output_type": "execute_result"
    }
   ],
   "source": [
    "D.shape"
   ]
  },
  {
   "cell_type": "code",
   "execution_count": 88,
   "id": "97e46007",
   "metadata": {},
   "outputs": [
    {
     "data": {
      "text/plain": [
       "array([[0, 0, 0],\n",
       "       [0, 0, 0]], dtype=int32)"
      ]
     },
     "execution_count": 88,
     "metadata": {},
     "output_type": "execute_result"
    }
   ],
   "source": [
    "np.zeros((2,3),dtype='i')"
   ]
  },
  {
   "cell_type": "code",
   "execution_count": null,
   "id": "e4f580df",
   "metadata": {},
   "outputs": [],
   "source": []
  }
 ],
 "metadata": {
  "kernelspec": {
   "display_name": "Python 3",
   "language": "python",
   "name": "python3"
  },
  "language_info": {
   "codemirror_mode": {
    "name": "ipython",
    "version": 3
   },
   "file_extension": ".py",
   "mimetype": "text/x-python",
   "name": "python",
   "nbconvert_exporter": "python",
   "pygments_lexer": "ipython3",
   "version": "3.8.8"
  }
 },
 "nbformat": 4,
 "nbformat_minor": 5
}
