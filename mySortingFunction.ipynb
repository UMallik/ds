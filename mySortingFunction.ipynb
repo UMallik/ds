{
 "cells": [
  {
   "cell_type": "code",
   "execution_count": null,
   "id": "af8fb83d",
   "metadata": {},
   "outputs": [],
   "source": [
    "def sortListAsc(l):\n",
    "    for i in range(len(l)):\n",
    "        for j in range(i,len(l)):\n",
    "            if l[i] <=l[j]:\n",
    "                pass\n",
    "            else:\n",
    "                [l[i],l[j]] = [l[j],l[i]]\n",
    "    return l\n",
    "\n",
    "        "
   ]
  }
 ],
 "metadata": {
  "kernelspec": {
   "display_name": "Python 3",
   "language": "python",
   "name": "python3"
  },
  "language_info": {
   "codemirror_mode": {
    "name": "ipython",
    "version": 3
   },
   "file_extension": ".py",
   "mimetype": "text/x-python",
   "name": "python",
   "nbconvert_exporter": "python",
   "pygments_lexer": "ipython3",
   "version": "3.8.8"
  }
 },
 "nbformat": 4,
 "nbformat_minor": 5
}
